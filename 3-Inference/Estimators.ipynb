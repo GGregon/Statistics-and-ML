{
 "cells": [
  {
   "attachments": {},
   "cell_type": "markdown",
   "id": "1cb256d0-f049-4f1b-9470-5029380f3832",
   "metadata": {},
   "source": [
    "# Estimadores\n",
    "\n",
    "Um **estimador** é uma **variável aleatória**, definida como uma função dos dados amostrais, que fornece uma aproximação de um parâmetro populacional desconhecido."
   ]
  },
  {
   "cell_type": "markdown",
   "id": "e541bc5e-4eaa-48e0-a686-ef229fe25e47",
   "metadata": {},
   "source": [
    "### 1. Definição Formal\n",
    "\n",
    "Seja $ \\theta $ um parâmetro populacional desconhecido. Um estimador para $ \\theta $ é uma função:\n",
    "\n",
    "$$\n",
    "\\hat{\\theta} = g(X_1, X_2, \\ldots, X_n),\n",
    "$$\n",
    "\n",
    "onde:\n",
    "- $ X_1, X_2, \\ldots, X_n $ são observações da amostra da população,\n",
    "- $ g $ é uma função que mapeia a amostra para um valor estimado de $ \\theta $."
   ]
  },
  {
   "cell_type": "markdown",
   "id": "9f9e079e-b7db-4691-a9bb-6f10b06292e7",
   "metadata": {},
   "source": [
    "### Exemplo\n",
    "- Para estimar a **média populacional** $ \\mu $:\n",
    "  $$\n",
    "  \\hat{\\mu} = \\bar{X} = \\frac{1}{n} \\sum_{i=1}^n X_i.\n",
    "  $$\n",
    "- Para estimar a **variância populacional** $ \\sigma^2 $:\n",
    "  $$\n",
    "  \\hat{\\sigma}^2 = \\frac{1}{n-1} \\sum_{i=1}^n (X_i - \\bar{X})^2.\n",
    "  $$"
   ]
  },
  {
   "cell_type": "markdown",
   "id": "64a81471-4ec3-41b0-8daf-6dae57a9ef8b",
   "metadata": {},
   "source": [
    "### 2. Propriedades\n",
    "1. **Viés**:\n",
    "   $$\n",
    "   \\text{Bias}(\\hat{\\theta}) = \\mathbb{E}[\\hat{\\theta}] - \\theta.\n",
    "   $$\n",
    "   Se $ \\mathbb{E}[\\hat{\\theta}] = \\theta $, o estimador é **não viesado**.\n",
    "\n",
    "2. **Consistência**:\n",
    "   Um estimador é **consistente** se $ \\hat{\\theta} $ converge em probabilidade para $ \\theta $ à medida que o tamanho da amostra $ n \\to \\infty $.\n",
    "\n",
    "3. **Eficiência**:\n",
    "   Um estimador é **eficiente** se tiver a menor variância entre todos os estimadores não viesados para um dado tamanho de amostra.\n",
    "\n",
    "4. **Suficiência**:\n",
    "   Um estimador é suficiente se captura toda a informação sobre $ \\theta $ disponível na amostra."
   ]
  },
  {
   "cell_type": "markdown",
   "id": "2c3d1d32-aeb5-4eeb-b912-99d1e4b2dc64",
   "metadata": {},
   "source": [
    "## 3. Erro Padrão\n",
    "O **erro padrão** de um estimador quantifica sua precisão, representando o **desvio padrão de sua distribuição amostral**. Se $ \\hat{\\theta} $ é um estimador de um parâmetro $ \\theta $, seu erro padrão é definido como:\n",
    "\n",
    "$$\n",
    "SE(\\hat{\\theta}) = \\sqrt{\\text{Var}(\\hat{\\theta})}.\n",
    "$$"
   ]
  },
  {
   "cell_type": "markdown",
   "id": "18942ea7-8f85-4ee8-8429-94378f436651",
   "metadata": {},
   "source": [
    "### Exemplo: *Coeficientes de Regressão*\n",
    "\n",
    "Na regressão linear simples:\n",
    "$$\n",
    "y_i = \\beta_0 + \\beta_1 x_i + \\epsilon_i, \\quad \\epsilon_i \\sim N(0, \\sigma^2),\n",
    "$$\n",
    "os erros padrão dos coeficientes estimados $ \\hat{\\beta}_0 $ e $ \\hat{\\beta}_1 $ são:\n",
    "\n",
    "1. **Erro Padrão de $ \\hat{\\beta}_1 $:**\n",
    "   $$\n",
    "   SE(\\hat{\\beta}_1) = \\sqrt{\\hat{\\sigma}^2 \\cdot \\frac{1}{\\sum_{i=1}^n (x_i - \\bar{x})^2}},\n",
    "   $$\n",
    "   onde $ \\hat{\\sigma}^2 $ é a variância residual estimada:\n",
    "   $$\n",
    "   \\hat{\\sigma}^2 = \\frac{1}{n-2} \\sum_{i=1}^n (y_i - \\hat{y}_i)^2.\n",
    "   $$\n",
    "\n",
    "2. **Erro Padrão de $ \\hat{\\beta}_0 $:**\n",
    "   $$\n",
    "   SE(\\hat{\\beta}_0) = \\sqrt{\\hat{\\sigma}^2 \\cdot \\left( \\frac{1}{n} + \\frac{\\bar{x}^2}{\\sum_{i=1}^n (x_i - \\bar{x})^2} \\right)}.\n",
    "   $$"
   ]
  },
  {
   "cell_type": "markdown",
   "id": "88f07fc7-7e11-4a4c-9dd1-c49cf923297c",
   "metadata": {},
   "source": [
    "## 4. Distribuição Amostral de um Estimador\n",
    "A **distribuição amostral de um estimador** é a distribuição de probabilidade do estimador considerando todas as possíveis amostras de mesmo tamanho da população."
   ]
  },
  {
   "cell_type": "markdown",
   "id": "960d04af-ae0b-4e51-b977-503f6ed6bbde",
   "metadata": {},
   "source": [
    "### Exemplo: *Distribuição da Média Amostral*\n",
    "\n",
    "Para uma população com média $ \\mu $ e variância $ \\sigma^2 $:\n",
    "- Se $ X_1, X_2, \\ldots, X_n $ são independentes e identicamente distribuídos (i.i.d.),\n",
    "- A média amostral $ \\bar{X} = \\frac{1}{n} \\sum_{i=1}^n X_i $ tem:\n",
    "  - Média: $ \\mathbb{E}[\\bar{X}] = \\mu $,\n",
    "  - Variância: $ \\text{Var}(\\bar{X}) = \\frac{\\sigma^2}{n} $,\n",
    "  - Erro Padrão: $ SE(\\bar{X}) = \\sqrt{\\frac{\\sigma^2}{n}} $.\n",
    "\n",
    "Se a população é normal, $ \\bar{X} \\sim N\\left(\\mu, \\frac{\\sigma^2}{n}\\right) $. Para $ n $ grande, o Teorema Central do Limite garante que $ \\bar{X} $ é aproximadamente normal, mesmo que a população não seja."
   ]
  },
  {
   "cell_type": "markdown",
   "id": "fcb392ff-7fb7-40c5-928a-ea65c0af99fc",
   "metadata": {},
   "source": [
    "## 5. Dedução da Normalidade dos Coeficientes de Regressão\n",
    "Na regressão, os coeficientes estimados $ \\hat{\\beta}_0 $ e $ \\hat{\\beta}_1 $ são combinações lineares dos erros $ \\epsilon_i $, que são assumidos como normalmente distribuídos. Pela propriedade das combinações lineares de variáveis normais, os coeficientes também seguem uma distribuição normal.\n",
    "\n",
    "### Dedução para $ \\hat{\\beta}_1 $\n",
    "\n",
    "O estimador $ \\hat{\\beta}_1 $ é:\n",
    "$$\n",
    "\\hat{\\beta}_1 = \\frac{\\sum_{i=1}^n (x_i - \\bar{x})(y_i - \\bar{y})}{\\sum_{i=1}^n (x_i - \\bar{x})^2}.\n",
    "$$\n",
    "\n",
    "Substituímos $ y_i = \\beta_0 + \\beta_1 x_i + \\epsilon_i $:\n",
    "$$\n",
    "\\hat{\\beta}_1 = \\beta_1 + \\frac{\\sum_{i=1}^n (x_i - \\bar{x})\\epsilon_i}{\\sum_{i=1}^n (x_i - \\bar{x})^2}.\n",
    "$$\n",
    "\n",
    "Como $ \\epsilon_i \\sim N(0, \\sigma^2) $, o termo $ \\sum_{i=1}^n (x_i - \\bar{x})\\epsilon_i $ é uma combinação linear de variáveis normais e segue uma distribuição normal. Portanto:\n",
    "$$\n",
    "\\hat{\\beta}_1 \\sim N\\left(\\beta_1, \\text{Var}(\\hat{\\beta}_1)\\right),\n",
    "$$\n",
    "onde $ \\text{Var}(\\hat{\\beta}_1) = \\frac{\\sigma^2}{\\sum_{i=1}^n (x_i - \\bar{x})^2}. $\n",
    "\n",
    "### Dedução para $ \\hat{\\beta}_0 $\n",
    "\n",
    "O estimador $ \\hat{\\beta}_0 $ é:\n",
    "$$\n",
    "\\hat{\\beta}_0 = \\bar{y} - \\hat{\\beta}_1 \\bar{x}.\n",
    "$$\n",
    "\n",
    "Substituímos $ \\bar{y} = \\frac{1}{n} \\sum_{i=1}^n y_i $:\n",
    "$$\n",
    "\\hat{\\beta}_0 = \\beta_0 + \\frac{1}{n} \\sum_{i=1}^n \\epsilon_i - \\hat{\\beta}_1 \\bar{x}.\n",
    "$$\n",
    "\n",
    "Como $ \\hat{\\beta}_1 $ e $ \\frac{1}{n} \\sum_{i=1}^n \\epsilon_i $ são combinações lineares de variáveis normais, $ \\hat{\\beta}_0 $ também é normalmente distribuído:\n",
    "$$\n",
    "\\hat{\\beta}_0 \\sim N\\left(\\beta_0, \\text{Var}(\\hat{\\beta}_0)\\right).\n",
    "$$"
   ]
  },
  {
   "cell_type": "markdown",
   "id": "075afaef-d656-468b-ac31-4efdb619c353",
   "metadata": {},
   "source": [
    "## 5. Estimando a Distribuição de um Estimador com uma Única Amostra\n",
    "\n",
    "Quando apenas uma amostra está disponível, a distribuição de um estimador $ \\hat{\\theta} $ pode ser aproximada usando os seguintes métodos:\n",
    "\n",
    "### 5.1 Aproximações Teóricas\n",
    "- Use resultados conhecidos sobre o estimador (por exemplo, normalidade para amostras grandes).\n",
    "- Estime a variância do estimador a partir dos dados da amostra.\n",
    "\n",
    "### 5.2 Método Bootstrap\n",
    "1. Reamostre repetidamente (com reposição) a partir dos dados originais.\n",
    "2. Calcule $ \\hat{\\theta} $ para cada reamostra.\n",
    "3. Use a distribuição empírica de $ \\hat{\\theta} $ para aproximar sua distribuição amostral.\n",
    "\n",
    "### 5.3 Simulação (Monte Carlo)\n",
    "1. Assuma uma distribuição para a população.\n",
    "2. Gere muitas amostras aleatórias e calcule $ \\hat{\\theta} $ para cada uma.\n",
    "3. Use os resultados para aproximar a distribuição de $ \\hat{\\theta} $.\n",
    "\n",
    "---"
   ]
  }
 ],
 "metadata": {
  "kernelspec": {
   "display_name": "Python 3 (ipykernel)",
   "language": "python",
   "name": "python3"
  },
  "language_info": {
   "codemirror_mode": {
    "name": "ipython",
    "version": 3
   },
   "file_extension": ".py",
   "mimetype": "text/x-python",
   "name": "python",
   "nbconvert_exporter": "python",
   "pygments_lexer": "ipython3",
   "version": "3.12.4"
  }
 },
 "nbformat": 4,
 "nbformat_minor": 5
}
