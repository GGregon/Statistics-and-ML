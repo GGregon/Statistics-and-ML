{
 "cells": [
  {
   "cell_type": "markdown",
   "id": "6f396426-6f2b-44c9-91f8-5d19abdcba9c",
   "metadata": {},
   "source": [
    "# Motivação\n",
    "Ao longo dos meus estudos em estatística inferencial, me deparei com uma tremenda dificuldade que precisava ser solucionada antes de me aventurar em tópicos mais avançados. Percebi que havia chegado um momento em que os passos deixaram de fazer sentido, os teoremas e resultados me geravam confusão e isso me bloqueava de aprender ferramentas que dependiam desses conhecimentos. Acontece que estatística é uma área que compartilha de muitas palavras que são usadas no cotidiano de forma ambígua (às vezes até errada) e isso pode comprometer o sólido entendimento do que está sendo construido. Além disso, sempre senti falta de certa formalidade matemática na grande parte dos livros didáticos, pois ainda que em certas ocasiões seja densa e confusa, por vezes pode ajudar a sedimentar os conhecimentos e abrir caminho para compreender os tópicos de forma conectada e não como um emaranhado de ferramentas e resultados desconexos que exigem muita memorização sem real entendimento da sua aplicação e como ela se relaciona com os demais. Esse *notebook* busca estabalecer, além de convenções e definições, um *framework* sobre como sistematizar todo processo de como pensar numa variável aleatória. O uso desse *framework* será estressado em todos os *notebooks* que virão e acredito que será muito útil (como está sendo para mim ao compartilhá-lo aqui) no aprendizado de tópicos mais avançados sobre aprendizado estatístico."
   ]
  },
  {
   "cell_type": "markdown",
   "id": "6609f7e9-00c2-4f2a-a60a-e0925e1adc81",
   "metadata": {},
   "source": [
    "# Definições e convenções\n",
    "Como mencionei acima, a terminologia emprestada das palavras e expressões usadas em estatística no dia-a-dia pode ser uma barreira no aprendizado. Sendo assim, irei definir o significado das termos mais importantes e buscar conectá-los de modo lógico, fazendo com que a leitura de textos e compreensão de problemas seja a mais unívoca possivel."
   ]
  },
  {
   "cell_type": "markdown",
   "id": "e2bf1e85-76f9-436b-ab47-ef2dde48943a",
   "metadata": {},
   "source": [
    "### **Experimento** $(\\mathcal{E})$\n",
    "É o cerne da estatística inferencial. Espaço amostral, probabilidade, variável aleatória, densidade de probabilidade, momentos e afins são termos intrinsicamente associados a um experimento (aleatório). Todas essas quantidades só existem no contexto de um experimento por trás. Sendo assim, definirei-o da seguinte forma:\n",
    "\n",
    "> _\"Processo, ou sequência de processos, realizado que produz resultados. Em geral, é bom que esteja descrito usando verbos de ação para evidenciar o que está sendo observado._\""
   ]
  },
  {
   "attachments": {},
   "cell_type": "markdown",
   "id": "026d48d8-4130-4c75-b9cf-1cf2a4c34209",
   "metadata": {},
   "source": [
    "### **Espaço amostral** $(\\Omega)$\n",
    "> _\"Conjunto que contém todos os resultados possíveis e mutuamente exclusivos que podem ocorrer em um experimento.\"_\n",
    "\n",
    "Um experimento produz como resultados o que chamamos de realizações<sup>(*)</sup>. Por exemplo, ao considerar o lançamento de um  um dado e observar a face voltada para cima, os resultados possíveis são $\\{1,2,3,4,5,6\\}$. \n",
    "\n",
    "> <sup>(*)</sup> Realização é elemento específico do espaço amostral - um resultado específico do experimento."
   ]
  },
  {
   "attachments": {},
   "cell_type": "markdown",
   "id": "998a4a37-f48d-4aeb-ac1c-9ba451f07770",
   "metadata": {},
   "source": [
    "### **Evento** $(A)$\n",
    "> _\"Qualquer subconjunto do espaço amostral $A\\subseteq \\Omega$.\"_\n",
    "\n",
    "Contudo, nem todo subconjunto do espaço amostral precisa ser um evento relevante no contexto do experimento. Na prática, é o experimento que define quais eventos são relevantes, pois ele que determina o que está sendo observado.\n",
    "\n",
    "No exemplo do lançamento de um dado, $\\Omega = \\{1,2,3,4,5,6\\}$. Perceba que $\\{\\emptyset\\}$ é um subconjunto de $\\Omega$, mas não tem utilidade, pois esse evento é impossível na prática."
   ]
  },
  {
   "cell_type": "markdown",
   "id": "811959bd-6039-4ef4-9a49-c6ea7ddf2cde",
   "metadata": {},
   "source": [
    "### **Função de probabilidade $(P)$**\n",
    "> \"_A função de probabilidade é uma função $ P $ que associa cada evento $ A \\subseteq \\Omega $ (subconjunto do espaço amostral) a um número real no intervalo $[0, 1]$, ou seja, $ P: 2^\\Omega \\to [0, 1] $.\"_\n",
    "\n",
    "Para ser considerada uma função de probabilidade, ela deve satisfazer os **axiomas de Kolmogorov**:\n",
    "\n",
    "1. **Não negatividade**: Para qualquer evento $ A \\subseteq \\Omega $, $ P(A) \\geq 0 $.  \n",
    "   *(A probabilidade de qualquer evento é sempre não negativa.)*<br>\n",
    "   *(Aqui estou considerando que $\\Omega$ é uma sigma-algebra)*\n",
    "\n",
    "3. **Probabilidade do evento certo**: A probabilidade do espaço amostral completo é 1, ou seja, $ P(\\Omega) = 1 $.  \n",
    "   *(O evento certo tem probabilidade igual a 1.)*\n",
    "\n",
    "4. **Aditividade para eventos disjuntos**: Para quaisquer dois eventos mutuamente exclusivos $ A $ e $ B $, ou seja, $ A \\cap B = \\emptyset $, temos:  \n",
    "   $$\n",
    "   P(A \\cup B) = P(A) + P(B).\n",
    "   $$  \n",
    "  \n",
    "   *(Se dois eventos não podem ocorrer simultaneamente, a probabilidade de sua união é a soma das probabilidades individuais.)*"
   ]
  },
  {
   "attachments": {},
   "cell_type": "markdown",
   "id": "cb57564e-9b9e-4e10-aac3-08e587643990",
   "metadata": {},
   "source": [
    "### **Variável aleatória** $(X)$\n",
    "> _\"Função que associa cada **realização** (ponto) do espaço amostral $(\\Omega)$ a um número real, representando uma característica ou medida associada ao resultado do experimento.\"_\n",
    "\n",
    "Formalmente, $X:\\Omega \\to \\mathbb{R}$\n",
    "\n",
    "A escolha da variável aleatória é completamente arbitrária."
   ]
  },
  {
   "cell_type": "markdown",
   "id": "fcb6034e-9cf3-4055-b306-255a93be8cb7",
   "metadata": {},
   "source": [
    "### **Função de Probabilidade Induzida $(P_X)$**\n",
    "> _\"Função de probabilidade definida no **conjunto imagem** de uma variável aleatória a partir da probabilidade originalmente definida no espaço amostral $\\Omega$.\"_\n",
    "\n",
    "Dada uma variável aleatória $ X: \\Omega \\to \\mathbb{R} $, e uma função de probabilidade $ P $ definida no espaço amostral $ \\Omega $, a probabilidade induzida é a probabilidade $ P_X $ definida sobre os valores que $ X $ pode assumir (no conjunto imagem $ \\text{Im}(X) $), tal que\n",
    "\n",
    "$$\n",
    "P_X(B) = P(X^{-1}(B)), \\quad \\text{para todo } B \\subseteq \\mathbb{R},\n",
    "$$\n",
    "\n",
    "$$\n",
    "X^{-1}(B) = \\{\\omega \\in \\Omega \\mid X(\\omega) \\in B \\}.\n",
    "$$\n",
    "\n",
    "\n",
    "onde $ X^{-1}(B) $ é o **pré-imagem** de $ B $ sob $ X $, ou seja:\n",
    "\n",
    ">A probabilidade induzida permite transferir a probabilidade definida no espaço amostral $ \\Omega $ para os valores associados à variável aleatória $ X $.<br>Isso é útil porque frequentemente estamos interessados em estudar a distribuição dos valores da variável aleatória (em $ \\mathbb{R} $) em vez dos eventos no espaço amostral original $ \\Omega $."
   ]
  },
  {
   "cell_type": "markdown",
   "id": "e7a99deb-6c51-4ae7-a0c0-da4e7a93da93",
   "metadata": {},
   "source": [
    "### Esclarecimentos importantes:\n",
    "1. **Elementos do espaço amostral**: Se quisermos ser mais específicos sobre elementos pontuais $ \\omega \\in \\Omega $, dizemos que para um espaço amostral discreto, a função de probabilidade $ P $ pode ser definida diretamente como uma função que associa **pontos do espaço amostral** a valores em $[0, 1]$:  \n",
    "   $$\n",
    "   P(\\{\\omega\\}) \\in [0, 1] \\quad \\text{com} \\quad \\sum_{\\omega \\in \\Omega} P(\\{\\omega\\}) = 1.\n",
    "   $$\n",
    "\n",
    "2. **Probabilidade de eventos (não pontuais)**: Para eventos $ A \\subseteq \\Omega $ em um espaço discreto, temos:  \n",
    "   $$\n",
    "   P(A) = \\sum_{\\omega \\in A} P(\\{\\omega\\}),\n",
    "   $$  \n",
    "   ou seja, a probabilidade de um evento é a soma das probabilidades dos elementos individuais contidos nesse evento."
   ]
  },
  {
   "cell_type": "markdown",
   "id": "166c739c-8587-4df8-b65d-6bc127c5df85",
   "metadata": {},
   "source": [
    "### *Framework*\n",
    "Podemos resumir todo as definições acima num único esquema abaixo. As setas definem o diagrama abaixo como um esquema causal"
   ]
  },
  {
   "cell_type": "markdown",
   "id": "6321c3e9-7de7-4595-aaca-2b02a779e193",
   "metadata": {},
   "source": [
    "<div style=\"text-align: center;\">\n",
    "    <img src=\"../1-images/definitions.png\" style=\"max-width: 50%; height: auto;\">\n",
    "</div>"
   ]
  },
  {
   "cell_type": "markdown",
   "id": "2652ad8e-007c-422d-a372-ec03848b1254",
   "metadata": {},
   "source": [
    "> _O esquema acima busca estabelecer uma certa ordem de como devemos ler qualquer problema envolvendo variáveis aleatórias e como alguns termos se relacionam._"
   ]
  }
 ],
 "metadata": {
  "kernelspec": {
   "display_name": "Python 3 (ipykernel)",
   "language": "python",
   "name": "python3"
  },
  "language_info": {
   "codemirror_mode": {
    "name": "ipython",
    "version": 3
   },
   "file_extension": ".py",
   "mimetype": "text/x-python",
   "name": "python",
   "nbconvert_exporter": "python",
   "pygments_lexer": "ipython3",
   "version": "3.12.4"
  }
 },
 "nbformat": 4,
 "nbformat_minor": 5
}
