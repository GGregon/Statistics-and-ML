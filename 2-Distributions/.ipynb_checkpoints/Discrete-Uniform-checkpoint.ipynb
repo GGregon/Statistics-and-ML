{
 "cells": [
  {
   "cell_type": "markdown",
   "id": "cee368f4-9cf1-4bb8-99b5-359f432c46fb",
   "metadata": {},
   "source": [
    "<img src=\"../1-images/dice_roll.png\" style=\"max-width: 100%; height: auto;\">"
   ]
  },
  {
   "cell_type": "markdown",
   "id": "42984593-6c31-4d6e-b64e-e51e30394741",
   "metadata": {},
   "source": [
    "_A distribuição uniforme de uma variável aleatória discreta surge naturalmente em situações como o lançamento de um dado, seleção de uma carta de um baralho, gerador de senha, escolha de uma pessoa aleatoriamente na multidão._"
   ]
  },
  {
   "cell_type": "markdown",
   "id": "3ffca193-08ee-4bdc-868d-0ba99a0c11fb",
   "metadata": {},
   "source": [
    "# Conteúdo\n",
    "Para todos os *notebooks* da série que descreve famílias de distribuições discretas, o objetivo será deduzir resultados importantes a partir das noções mais elementares e definições vistas em `Definitions.ipynb`. Para todas as distribuições, iremos estressar o *framework* apresentado de modo a sistematizar os passos de como se abordar problemas envolvendo variáveis aleatórias e funções de distribuição de variáveis aleatórias. Começaremos caracterizando, genericamente e, em seguida com exemplos, o tipo de experimento que enseja tal família de distribuições. Logo após iremos definir seu espaço amostral e alguns eventos de interesse bem como construiremos a função de probabilidade definida sobre o espaço amostral $\\Omega$ impondo suposições do experimento e os axiomas de *Kolmogorov*. Por fim, falaremos das variáveis aleatórias que ensejam o tipo de distribuição de interesse e sua probabilidade induzida."
   ]
  },
  {
   "cell_type": "markdown",
   "id": "9c266430-24f1-4191-ad38-c63be8e650d2",
   "metadata": {},
   "source": [
    "## 1. Experimento $\\mathcal{E}$\n",
    "> _\"Executar um processo *aleatório* onde o resultado pode assumir qualquer valor dentro de um conjunto finito e observar o resultado sem que haja qualquer viés sistemático favorecendo um subconjunto de valores possíveis.\"_"
   ]
  },
  {
   "cell_type": "markdown",
   "id": "0a7e8c1a-4181-499a-a8ba-e0255d30c6ed",
   "metadata": {},
   "source": [
    "## 2. Espaço Amostral $\\Omega$\n",
    "De acordo com a descrição do experimento aleatório acima, o espaço amostral contém $ N_1 - N_0 + 1 $ elementos, representados por:\n",
    "\n",
    "$$\n",
    "\\Omega = \\{\\omega_{N_0}, \\omega_{N_0 + 1}, ..., \\omega_{N_1}\\}\n",
    "$$\n",
    "\n",
    "onde cada $ \\omega_i $ é um resultado possível do experimento"
   ]
  },
  {
   "cell_type": "markdown",
   "id": "2c8282c1-c6d7-4035-8f67-b8a0dc6ae164",
   "metadata": {},
   "source": [
    "## 3. Probabilidade $P(\\{\\Omega=\\omega_i\\})$\n",
    "_\"Toda função que satisfaz os axiomas de Kolmogorov é considerada uma função de probabilidade. O que as diferencia é justamente quais as suposições sobre os resultados do experimento, por isso é tão importante compreender quais tipos de experimentos nos levam a um determinado tipo de problema.\"_"
   ]
  },
  {
   "cell_type": "markdown",
   "id": "ccd6b9a4-c0c6-43fe-bf74-c2eab18712db",
   "metadata": {},
   "source": [
    "**3.1. Suposição**<br>\n",
    "De acordo com a descrição do experimento, iremos *impor* que a suposição do não favorecimento entre resultados é verdadeira. A tradução dessa imposição é que a função de probabilidade $P$ deve assumir o mesmo valor quando calculada sobre todas as realizações. Isto é:\n",
    "$$\n",
    "P(\\{\\Omega=\\omega_i\\}) = p \\qquad \\forall \\omega_i \\in \\Omega\n",
    "$$\n",
    "\n",
    "Leia-se: A probabilidade do evento $\\Omega=\\omega_i$ é a mesma, e igual a $p$, para todos os elementos de $\\Omega$"
   ]
  },
  {
   "attachments": {},
   "cell_type": "markdown",
   "id": "c0d63568-c41c-4336-84db-54d4b212f5ae",
   "metadata": {},
   "source": [
    "**3.2. Axiomas de Kolmogorov**<br>\n",
    "A partir da(s) imposição(ões) descrita(s) acima - que caracteriza a função de probabilidade, verificamos os axiomas de Kolmogorov. Essa etapa é responsável por nos retornar a \"cara\" da função de probabilidade.\n",
    "\n",
    "- **(1)** $ A \\subseteq \\Omega $, $ P(A) \\geq 0 $\n",
    "- **(2)** $ P(\\Omega) = 1 $.  \n",
    "- **(3)** Sejam $A_1,A_2,\\cdots, \\in \\Omega$ eventos disjuntos dois a dois, então $P(\\cup A_i) = \\sum_{i=1}P(A_i)$"
   ]
  },
  {
   "attachments": {},
   "cell_type": "markdown",
   "id": "f0494f9f-6f05-4b18-92d1-03b4cdeac387",
   "metadata": {},
   "source": [
    "**3.3. Construção da função de probabilidade**\n",
    "\n",
    "Usando **(2)**:\n",
    "$$\n",
    "P(\\Omega) = 1 \\Rightarrow P(\\{\\omega_{N_0}, \\omega_{N_0 + 1}, ..., \\omega_{N_1}\\})=1\n",
    "$$\n",
    "\n",
    "Podemos reescrever o evento $\\{\\omega_{N_0}, \\omega_{N_0 + 1}, ..., \\omega_{N_1}\\}$ como a união dos eventos individuais, uma vez que cada $\\omega_i$ é um elemento. Isto é,\n",
    "\n",
    "$$\n",
    "\\{\\omega_{N_0}, \\omega_{N_0 + 1}, ..., \\omega_{N_1}\\} = \\{\\{\\omega_{N_0}\\} \\cup \\{\\omega_{N_0 + 1}\\} \\cup ..., \\cup \\{\\omega_{N_1}\\}\\} \\quad \\therefore \\quad \n",
    "P(\\{\\{\\omega_{N_0}\\} \\cup \\{\\omega_{N_0 + 1}\\} \\cup ..., \\cup \\{\\omega_{N_1}\\}\\})=1\n",
    "$$\n",
    "\n",
    "Reescrevendo o lado esquerdo:\n",
    "$$\n",
    "P\\left(\\bigcup_{i=N_0}^{N_1} \\{\\omega_i\\} \\right) = 1\n",
    "$$\n",
    "Como os eventos em questão são disjuntos dois a dois, agora usamos **(3)**\n",
    "$$\n",
    "P\\left(\\bigcup_{i=N_0}^{N_1} \\{\\omega_i\\} \\right) = 1 \\Longleftrightarrow \\sum_{i=N_0}^{N_1} P(\\{\\omega_i\\})=1\n",
    "$$\n",
    "\n",
    "Perceba que o argumento do somatório é justamente o resultado da nossa suposição.\n",
    "\n",
    "$$\n",
    "(N_1-N_0+1)P(\\{\\omega_i\\})=1 \\qquad \\therefore \\qquad  (N_1-N_0+1)\\cdot p=1\n",
    "$$\n",
    "\n",
    "Como $\\{\\omega_i\\}=\\omega_i$, não há porque carregar a notação, sendo mais simples escrever sem as chaves. Logo, encontramos o valor da função de probabilidade calculada sobre cada elemento do espaço amostral:\n",
    "\n",
    "$$\n",
    "P(\\omega_i) = p = \\frac{1}{N_1-N_0+1}\n",
    "$$\n",
    "\n",
    "> A verificação do primeiro axioma é imediata, bastando obrigar $N_1-N_0+1>0$"
   ]
  },
  {
   "cell_type": "markdown",
   "id": "c2cc5383-12de-4c2c-8342-72460dbc39d0",
   "metadata": {},
   "source": [
    "## 4. Variável Aleatória $ X $\n",
    "> _\"Seja $X$ uma função definida sobre $\\Omega$ nos reais, isto é, mapeia cada *elemento*<sup>(*)</sup> do experimento em um número real. Assim, para cada realização $\\omega \\in \\Omega$ existe um número real $X(\\omega_i)$ associado.\"_\n",
    "\n",
    "Seja $B$ um subconjunto da imagem de $X$, definimos a **pré-imagem** como sendo:\n",
    "$$\n",
    "X^{-1}(B) = \\{\\omega_i \\in \\Omega | X(\\omega_i) \\in B\\}\n",
    "$$"
   ]
  },
  {
   "attachments": {},
   "cell_type": "markdown",
   "id": "808d66e8-9da2-4709-abbd-3ff60b6a2ecb",
   "metadata": {},
   "source": [
    "No exemplo abaixo,\n",
    "\n",
    "<div style=\"text-align: center;\">\n",
    "    <img src=\"../1-images/pre_image.png\" style=\"max-width: 30%; height: auto;\">\n",
    "</div>\n",
    "\n",
    "Seja $B=\\{x_1,x_2,x_3\\}$. A pré-imagem de $B$ por $X$ representa o elementos de $\\Omega$ cuja imagem por $X$ resulta em $B$. Nesse caso, $X^{-1}(B) = \\{\\omega_1, \\omega_2, \\omega_3\\, \\omega_4\\}$. Note que o conceito de inversa não se aplica aqui, pois $X$ não é um mapeamento bijetor."
   ]
  },
  {
   "attachments": {},
   "cell_type": "markdown",
   "id": "40c9dcb8-8789-4970-80e3-25a42bd1bac5",
   "metadata": {},
   "source": [
    "Aqui deve ficar claro que a variável aleatória é **qualquer função** que:\n",
    "\n",
    "- Satisfaça a estrutura probabilística do espaço amostral\n",
    "- Seja mensurável, ou seja, que a pré-imagem de qualquer conjunto mensurável de $\\mathbb{R}$ seja um evento válido em $\\Omega$"
   ]
  },
  {
   "cell_type": "markdown",
   "id": "84914a93-0ad8-449a-b7f0-70dd2d7e2522",
   "metadata": {},
   "source": [
    "## 5. Probabilidade Induzida $ P_X(\\{X = x\\}) $\n",
    "Agora, queremos encontrar a **distribuição de probabilidade** de $ X $, ou seja, $ P_X(X = x) $, que é dada por:\n",
    "\n",
    "$$\n",
    "P_X(X = x) = P(\\{\\omega_i \\in \\Omega : X(\\omega_i) = x\\})\n",
    "$$"
   ]
  },
  {
   "cell_type": "markdown",
   "id": "386570c3-1a08-46f3-b684-4d2b4c17913e",
   "metadata": {},
   "source": [
    "Pela prórpia descrição do evento, fica claro que não há uma fórmula fechada para expressão da probabilidade induzida, pois ela irá depender de como o mapeamento entre $\\Omega$ e $X(\\omega)$ está sendo feito."
   ]
  },
  {
   "cell_type": "markdown",
   "id": "276ec42f-642c-4c57-b39f-342838ae7e9e",
   "metadata": {},
   "source": [
    "## 5. Probabilidade acumulada $P_X(X\\le x)$\n",
    "A CDF, $ F(x) $, é definida como:\n",
    "\n",
    "$$\n",
    "F(x) = P(X \\leq x) = \\sum_{y=N_0}^{\\lfloor x \\rfloor} P_X(X = y)\n",
    "$$\n",
    "\n",
    "Substituindo $ P_X(X = y) = \\frac{1}{N_1 - N_0 + 1} $, temos:\n",
    "\n",
    "$$\n",
    "F(x) = \\sum_{y=N_0}^{\\lfloor x \\rfloor} \\frac{1}{N_1 - N_0 + 1}\n",
    "$$\n",
    "\n",
    "Como a soma percorre $ \\lfloor x \\rfloor - N_0 + 1 $ termos, obtemos:\n",
    "\n",
    "$$\n",
    "F(x) = \\frac{\\lfloor x \\rfloor - N_0 + 1}{N_1 - N_0 + 1}, \\quad N_0 \\leq x \\leq N_1\n",
    "$$\n",
    "\n",
    "Para garantir que a CDF seja uma função de distribuição válida, adicionamos os valores extremos:\n",
    "\n",
    "$$\n",
    "F(x) =\n",
    "\\begin{cases}\n",
    "    0, & x < N_0 \\\\\n",
    "    \\frac{\\lfloor x \\rfloor - N_0 + 1}{N_1 - N_0 + 1}, & N_0 \\leq x \\leq N_1 \\\\\n",
    "    1, & x > N_1\n",
    "\\end{cases}\n",
    "$$"
   ]
  },
  {
   "cell_type": "markdown",
   "id": "988a20ea-f9b7-47a9-9378-1ca1b07257ac",
   "metadata": {},
   "source": [
    "## 6. Momentos da distribuição\n",
    "Momentos são estatísticas úteis para se caracterizar a distribuição de uma variável aleatória e apesar de, em alguns casos, ser possível calcular infinitos deles, nos são uteis somente os dois primeiros: a média e a variância."
   ]
  },
  {
   "cell_type": "markdown",
   "id": "c4f1eb25-c7fe-4701-a105-513601488008",
   "metadata": {},
   "source": [
    "### 6.1. Média ($\\mu$) - Primeiro momento ($\\mathbb{E}X^1 = \\mu_1'$)\n",
    "\n",
    "$$\n",
    "\\mathbb{E}X = \\sum_{x \\in X(S)} x P_X(X = x)\n",
    "$$\n",
    "\n",
    "Para a **distribuição uniforme discreta**, onde $ X \\sim U(N_0, N_1) $, temos:\n",
    "\n",
    "$$\n",
    "P_X(X = x) = \\frac{1}{N_1 - N_0 + 1}, \\quad \\text{para } x \\in \\{N_0, N_0 + 1, ..., N_1\\}\n",
    "$$\n",
    "\n",
    "$$\n",
    "\\mathbb{E}X = \\sum_{x=N_0}^{N_1} x \\cdot \\frac{1}{N_1 - N_0 + 1}\n",
    "$$\n",
    "\n",
    "Podemos reescrever a soma como:\n",
    "\n",
    "$$\n",
    "\\mathbb{E}X = \\frac{1}{N_1 - N_0 + 1} \\sum_{x=N_0}^{N_1} x\n",
    "$$\n",
    "\n",
    "$$\n",
    "\\sum_{x=N_0}^{N_1} x = \\frac{(N_1 - N_0 + 1)(N_0 + N_1)}{2}\n",
    "$$\n",
    "\n",
    "Portanto:\n",
    "\n",
    "$$\n",
    "\\mathbb{E}X = \\frac{(N_0 + N_1)}{2}\n",
    "$$"
   ]
  },
  {
   "cell_type": "markdown",
   "id": "5bb63905-bc71-42c8-aa7b-964791438712",
   "metadata": {},
   "source": [
    "### 6.2. Variância $\\text{Var}(X)$ - Segundo momento central ($\\mathbb{E}(X-\\mu)^2 = \\mu_2)$\n",
    "\n",
    "Usando um resultado (simples de provar usando as propriedades do valor esperado), temos:\n",
    "$$\n",
    "\\text{Var}(X) = \\mathbb{E}[X^2] - (\\mathbb{E}[X])^2\n",
    "$$\n",
    "\n",
    "A esperança de $ X^2 $ é dada por:\n",
    "\n",
    "$$\n",
    "\\mathbb{E}[X^2] = \\sum_{x=N_0}^{N_1} x^2 P_X(X = x)\n",
    "$$\n",
    "\n",
    "Substituindo $ P_X(X = x) $:\n",
    "\n",
    "$$\n",
    "\\mathbb{E}[X^2] = \\frac{1}{N_1 - N_0 + 1} \\sum_{x=N_0}^{N_1} x^2\n",
    "$$\n",
    "\n",
    "Usamos a expressão da soma dos quadrados dos primeiros $ n $ números inteiros:\n",
    "\n",
    "$$\n",
    "\\sum_{x=N_0}^{N_1} x^2 = \\frac{N_1(N_1+1)(2N_1+1)}{6} - \\frac{(N_0-1)N_0(2N_0-1)}{6}\n",
    "$$\n",
    "\n",
    "Portanto,\n",
    "\n",
    "$$\n",
    "\\mathbb{E}[X^2] = \\frac{1}{N_1 - N_0 + 1} \\left[ \\frac{N_1(N_1+1)(2N_1+1)}{6} - \\frac{(N_0-1)N_0(2N_0-1)}{6} \\right]\n",
    "$$\n",
    "\n",
    "\n",
    "$$\n",
    "\\text{Var}(X) = \\mathbb{E}[X^2] - (\\mathbb{E}[X])^2\n",
    "$$\n",
    "\n",
    "Substituindo a média $ \\mathbb{E}[X] $ que já calculamos:\n",
    "\n",
    "$$\n",
    "\\text{Var}(X) = \\frac{(N_1 - N_0 + 1)^2 - 1}{12}\n",
    "$$\n",
    "\n",
    "$$\n",
    "\\mathbb{E}[X] = \\frac{N_0 + N_1}{2}\n",
    "$$\n",
    "\n",
    "$$\n",
    "\\text{Var}(X) = \\frac{(N_1 - N_0 + 1)^2 - 1}{12}\n",
    "$$"
   ]
  },
  {
   "cell_type": "markdown",
   "id": "49f7f268-5c8b-4f71-8fb2-fb5e75639fe8",
   "metadata": {},
   "source": [
    "## Visualizações"
   ]
  },
  {
   "cell_type": "code",
   "execution_count": 4,
   "id": "c48f4f0f-da67-4d28-a034-be20e61555d0",
   "metadata": {},
   "outputs": [],
   "source": [
    "# Importando bibliotecas e classes uteis\n",
    "import numpy as np\n",
    "import matplotlib.pyplot as plt\n",
    "import scipy.stats as stats"
   ]
  },
  {
   "cell_type": "code",
   "execution_count": 13,
   "id": "24bb1494-ac30-4c14-8c6d-8e8718c5c6ab",
   "metadata": {},
   "outputs": [],
   "source": [
    "# Parametros da distribuição\n",
    "N0, N1 = 1, 10\n",
    "\n",
    "# Criando valores para X\n",
    "x_values = np.arange(N0, N1 + 1)\n",
    "pmf_values = stats.randint.pmf(x_values, N0, N1 + 1)\n",
    "cdf_values = stats.randint.cdf(x_values, N0, N1 + 1)\n",
    "\n",
    "# Calculos dos momentos\n",
    "mean_x = (N0 + N1) / 2\n",
    "var_x = ((N1 - N0 + 1) ** 2 - 1) / 12\n",
    "std_x = np.sqrt(var_x)  # Standard deviation"
   ]
  },
  {
   "cell_type": "code",
   "execution_count": 26,
   "id": "a2a4e9db-a827-4589-b87c-a978e8c88a56",
   "metadata": {},
   "outputs": [
    {
     "data": {
      "image/png": "[encoded data removed]",
      "text/plain": [
       "<Figure size 1300x400 with 2 Axes>"
      ]
     },
     "metadata": {},
     "output_type": "display_data"
    }
   ],
   "source": [
    "f,(ax_pmf,ax_cdf) = plt.subplots(1,2,figsize=(13,4),layout='constrained')\n",
    "\n",
    "# Função de massa de probabilidade (pmf)\n",
    "ax_pmf.stem(x_values, pmf_values, basefmt=\"C0-\")\n",
    "ax_pmf.set_title(r\"$P_X(X=x)$\")\n",
    "ax_pmf.errorbar(mean_x, 0.05, xerr=std_x, fmt='o', color='tab:blue', capsize=5, alpha=0.5)\n",
    "\n",
    "# Função de probabilidade acumulada (cdf)\n",
    "ax_cdf.step(x_values, cdf_values, where=\"mid\", label=\"CDF\", linewidth=2)\n",
    "ax_cdf.set_title(r\"$F_X(X)$\")\n",
    "\n",
    "for ax in (ax_pmf,ax_cdf):\n",
    "    ax.grid(alpha=0.5)\n",
    "    ax.set_xlabel('X')\n",
    "    ax.set_xticks(x_values)\n",
    "    \n",
    "plt.show()"
   ]
  }
 ],
 "metadata": {
  "kernelspec": {
   "display_name": "Python 3 (ipykernel)",
   "language": "python",
   "name": "python3"
  },
  "language_info": {
   "codemirror_mode": {
    "name": "ipython",
    "version": 3
   },
   "file_extension": ".py",
   "mimetype": "text/x-python",
   "name": "python",
   "nbconvert_exporter": "python",
   "pygments_lexer": "ipython3",
   "version": "3.12.4"
  }
 },
 "nbformat": 4,
 "nbformat_minor": 5
}
