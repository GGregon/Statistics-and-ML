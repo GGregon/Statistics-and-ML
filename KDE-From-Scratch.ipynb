{
 "cells": [
  {
   "cell_type": "code",
   "execution_count": 1,
   "id": "901c9c41-3042-447c-a9d9-8d9f4fe2ca7b",
   "metadata": {},
   "outputs": [],
   "source": [
    "import numpy as np\n",
    "import matplotlib.pyplot as plt\n",
    "from scipy.stats import gaussian_kde\n",
    "# from scipy.stats import beta as beta_dist  # Importando o beta com outro nome"
   ]
  },
  {
   "cell_type": "code",
   "execution_count": 17,
   "id": "12102f00-c466-4384-bd29-a23e354a32e4",
   "metadata": {},
   "outputs": [],
   "source": [
    "def pdf(x,N,bw=0):\n",
    "    x_eval=np.linspace(x.min(),x.max(),N)\n",
    "    kde=gaussian_kde(x,bw_method=bw)\n",
    "    return x_eval, kde(x_eval)"
   ]
  },
  {
   "cell_type": "code",
   "execution_count": 18,
   "id": "ade6c3ac-cbc3-403d-9b40-a3ddb2c8aed2",
   "metadata": {},
   "outputs": [],
   "source": [
    "# Dados amostrados\n",
    "loc,scale=2,.4\n",
    "sample_size=10\n",
    "samples=np.random.normal(loc,scale,sample_size)\n",
    "prob_samples = pdf_normal(samples,loc,scale)"
   ]
  },
  {
   "cell_type": "code",
   "execution_count": 21,
   "id": "5e9a1774-b3d5-430c-adc0-79030c5b7589",
   "metadata": {},
   "outputs": [
    {
     "ename": "LinAlgError",
     "evalue": "singular matrix: resolution failed at diagonal 0",
     "output_type": "error",
     "traceback": [
      "\u001b[1;31m---------------------------------------------------------------------------\u001b[0m",
      "\u001b[1;31mLinAlgError\u001b[0m                               Traceback (most recent call last)",
      "Cell \u001b[1;32mIn[21], line 2\u001b[0m\n\u001b[0;32m      1\u001b[0m \u001b[38;5;66;03m# Usando os dados amostrados para estimar a pdf\u001b[39;00m\n\u001b[1;32m----> 2\u001b[0m pdf(samples,\u001b[38;5;241m10\u001b[39m)\n",
      "Cell \u001b[1;32mIn[17], line 4\u001b[0m, in \u001b[0;36mpdf\u001b[1;34m(x, N, bw)\u001b[0m\n\u001b[0;32m      2\u001b[0m x_eval\u001b[38;5;241m=\u001b[39mnp\u001b[38;5;241m.\u001b[39mlinspace(x\u001b[38;5;241m.\u001b[39mmin(),x\u001b[38;5;241m.\u001b[39mmax(),N)\n\u001b[0;32m      3\u001b[0m kde\u001b[38;5;241m=\u001b[39mgaussian_kde(x,bw_method\u001b[38;5;241m=\u001b[39mbw)\n\u001b[1;32m----> 4\u001b[0m \u001b[38;5;28;01mreturn\u001b[39;00m x_eval, kde(x_eval)\n",
      "File \u001b[1;32m~\\anaconda3\\Lib\\site-packages\\scipy\\stats\\_kde.py:271\u001b[0m, in \u001b[0;36mgaussian_kde.evaluate\u001b[1;34m(self, points)\u001b[0m\n\u001b[0;32m    268\u001b[0m         \u001b[38;5;28;01mraise\u001b[39;00m \u001b[38;5;167;01mValueError\u001b[39;00m(msg)\n\u001b[0;32m    270\u001b[0m output_dtype, spec \u001b[38;5;241m=\u001b[39m _get_output_dtype(\u001b[38;5;28mself\u001b[39m\u001b[38;5;241m.\u001b[39mcovariance, points)\n\u001b[1;32m--> 271\u001b[0m result \u001b[38;5;241m=\u001b[39m gaussian_kernel_estimate[spec](\n\u001b[0;32m    272\u001b[0m     \u001b[38;5;28mself\u001b[39m\u001b[38;5;241m.\u001b[39mdataset\u001b[38;5;241m.\u001b[39mT, \u001b[38;5;28mself\u001b[39m\u001b[38;5;241m.\u001b[39mweights[:, \u001b[38;5;28;01mNone\u001b[39;00m],\n\u001b[0;32m    273\u001b[0m     points\u001b[38;5;241m.\u001b[39mT, \u001b[38;5;28mself\u001b[39m\u001b[38;5;241m.\u001b[39mcho_cov, output_dtype)\n\u001b[0;32m    275\u001b[0m \u001b[38;5;28;01mreturn\u001b[39;00m result[:, \u001b[38;5;241m0\u001b[39m]\n",
      "File \u001b[1;32m_stats.pyx:780\u001b[0m, in \u001b[0;36mscipy.stats._stats.gaussian_kernel_estimate\u001b[1;34m()\u001b[0m\n",
      "File \u001b[1;32m~\\anaconda3\\Lib\\site-packages\\scipy\\linalg\\_basic.py:354\u001b[0m, in \u001b[0;36msolve_triangular\u001b[1;34m(a, b, trans, lower, unit_diagonal, overwrite_b, check_finite)\u001b[0m\n\u001b[0;32m    352\u001b[0m     \u001b[38;5;28;01mreturn\u001b[39;00m x\n\u001b[0;32m    353\u001b[0m \u001b[38;5;28;01mif\u001b[39;00m info \u001b[38;5;241m>\u001b[39m \u001b[38;5;241m0\u001b[39m:\n\u001b[1;32m--> 354\u001b[0m     \u001b[38;5;28;01mraise\u001b[39;00m LinAlgError(\u001b[38;5;124m\"\u001b[39m\u001b[38;5;124msingular matrix: resolution failed at diagonal \u001b[39m\u001b[38;5;132;01m%d\u001b[39;00m\u001b[38;5;124m\"\u001b[39m \u001b[38;5;241m%\u001b[39m\n\u001b[0;32m    355\u001b[0m                       (info\u001b[38;5;241m-\u001b[39m\u001b[38;5;241m1\u001b[39m))\n\u001b[0;32m    356\u001b[0m \u001b[38;5;28;01mraise\u001b[39;00m \u001b[38;5;167;01mValueError\u001b[39;00m(\u001b[38;5;124m'\u001b[39m\u001b[38;5;124millegal value in \u001b[39m\u001b[38;5;132;01m%d\u001b[39;00m\u001b[38;5;124mth argument of internal trtrs\u001b[39m\u001b[38;5;124m'\u001b[39m \u001b[38;5;241m%\u001b[39m\n\u001b[0;32m    357\u001b[0m                  (\u001b[38;5;241m-\u001b[39minfo))\n",
      "\u001b[1;31mLinAlgError\u001b[0m: singular matrix: resolution failed at diagonal 0"
     ]
    }
   ],
   "source": [
    "# Usando os dados amostrados para estimar a pdf\n",
    "pdf(samples)"
   ]
  },
  {
   "cell_type": "code",
   "execution_count": 11,
   "id": "758300f4-03f5-43cc-835e-6ab9d4024c52",
   "metadata": {},
   "outputs": [
    {
     "data": {
      "text/plain": [
       "<matplotlib.collections.PathCollection at 0x192deea9880>"
      ]
     },
     "execution_count": 11,
     "metadata": {},
     "output_type": "execute_result"
    },
    {
     "data": {
      "image/png": "[encoded data removed]",
      "text/plain": [
       "<Figure size 640x480 with 1 Axes>"
      ]
     },
     "metadata": {},
     "output_type": "display_data"
    }
   ],
   "source": [
    "plt.scatter(samples,prob_samples)"
   ]
  },
  {
   "cell_type": "code",
   "execution_count": 9,
   "id": "bd762856-55fb-4ad0-ac38-8bb25c435b6d",
   "metadata": {},
   "outputs": [],
   "source": [
    "def pdf_normal(x,mu=0,sigma=1): \n",
    "    return (1/(sigma * np.sqrt(2 * np.pi))) * np.exp(-0.5 * ((x - mu) / sigma)**2)"
   ]
  },
  {
   "cell_type": "code",
   "execution_count": null,
   "id": "abfbd6f9-be2b-4220-93af-4656eedb3ca6",
   "metadata": {},
   "outputs": [],
   "source": [
    "a,b = 3,2\n",
    "x = np.linspace(0, 1, 1000)\n",
    "beta_pdf = beta_dist.pdf(x, a, b)\n",
    "\n",
    "# Amostrar 10 observações aleatórias dos dados gerados\n",
    "sample = np.random.beta(a, b, 10)"
   ]
  },
  {
   "cell_type": "code",
   "execution_count": null,
   "id": "cd0a878c-7aa8-4a57-97f9-584b37a39ad4",
   "metadata": {},
   "outputs": [],
   "source": [
    "x_samples = np.random.choice(x,10)\n",
    "prob_samples = beta_dist.pdf(x_samples, a,b)"
   ]
  },
  {
   "cell_type": "code",
   "execution_count": null,
   "id": "a02757e1-6f79-4764-a247-46b4dd3c576c",
   "metadata": {},
   "outputs": [],
   "source": [
    "# Plotar a PDF\n",
    "plt.plot(x, beta_pdf, color='b', lw=1,label='População')\n",
    "plt.scatter(x=x_samples,y=prob_samples,label='Amostras')\n",
    "plt.grid(alpha=0.3)\n",
    "plt.legend()\n",
    "plt.show()"
   ]
  },
  {
   "cell_type": "markdown",
   "id": "4d560579-4a73-495c-8bf3-9b8324f02f6d",
   "metadata": {},
   "source": [
    "Nosso objetivo é estimar a curva da população (distribuição beta) a partir das amostras"
   ]
  },
  {
   "cell_type": "markdown",
   "id": "c59e9583-a93a-4a12-84d0-396d861ffa1b",
   "metadata": {},
   "source": [
    "## Criando uma normal padrão $\\mathcal{N}(0,1)$"
   ]
  },
  {
   "cell_type": "code",
   "execution_count": null,
   "id": "4e12fa93-8a67-4c8e-89f5-667a7ad1d449",
   "metadata": {},
   "outputs": [],
   "source": [
    "def kernel_gaussiano(x,mu=0,sigma=1): \n",
    "    return (1/(sigma * np.sqrt(2 * np.pi))) * np.exp(-0.5 * ((x - mu) / sigma)**2)"
   ]
  },
  {
   "cell_type": "markdown",
   "id": "e43b9b0d-a296-46b8-9185-e17ad08665c8",
   "metadata": {},
   "source": [
    "Vou começar plotando tudo num mesmo gráfico para dar a intuição do que será realizado"
   ]
  },
  {
   "cell_type": "code",
   "execution_count": null,
   "id": "3c92b3c8-6303-4f0c-8fdf-fe81d4c25745",
   "metadata": {},
   "outputs": [],
   "source": [
    "x=np.linspace(-5,5,1000)\n",
    "plt.plot(x,kernel_gaussiano(x),lw=.5,ls='--',c='k')\n",
    "h=2\n",
    "plt.axvline(x=0,c='k')\n",
    "estimativa = 0\n",
    "samples = [1,2,3,4]\n",
    "colormap = plt.cm.Blues(np.linspace(.2,.8,len(samples)))\n",
    "for i,s in enumerate(samples):\n",
    "    plt.plot(x,kernel_gaussiano((x-s)/h),label=f's={s}',color=colormap[i],lw=1)\n",
    "    plt.scatter(0,kernel_gaussiano((0-s)/h),marker='x',s=50,color=colormap[i])\n",
    "    # plt.scatter(0,kernel_gaussiano((0-s)/h),marker='x',edgecolor=colormap[i],color='None')\n",
    "    estimativa+=kernel_gaussiano((0-s)/h)\n",
    "\n",
    "plt.scatter(0,estimativa/(4*h))\n",
    "plt.grid(alpha=0.2)"
   ]
  },
  {
   "cell_type": "code",
   "execution_count": null,
   "id": "922c1bf8-63b9-4aad-b9d3-e58926a224e0",
   "metadata": {},
   "outputs": [],
   "source": [
    "h=2\n",
    "\n",
    "samples = [1,2,3,4]\n",
    "x=np.linspace(-5,5,10)\n",
    "colormap = plt.cm.Blues(np.linspace(.2,.8,len(samples)))\n",
    "\n",
    "f=plt.figure(figsize=(20,4))\n",
    "plt.plot(x,kernel_gaussiano(x),lw=.5,ls='--',c='k')\n",
    "for va in x:\n",
    "    plt.axvline(x=va,c='k')\n",
    "    estimativa = 0\n",
    "    for i,s in enumerate(samples):\n",
    "        plt.plot(x,kernel_gaussiano((x-s)/h),label=f's={s}',color=colormap[i],lw=1)\n",
    "        plt.scatter(0,kernel_gaussiano((va-s)/h),marker='x',s=50,color=colormap[i])\n",
    "        estimativa+=kernel_gaussiano((va-s)/h)\n",
    "    plt.scatter(va,estimativa/(4*h))\n",
    "\n",
    "plt.grid(alpha=0.2)"
   ]
  },
  {
   "cell_type": "code",
   "execution_count": null,
   "id": "7e8ecc52-ebf1-43d2-b0db-342b863a7595",
   "metadata": {},
   "outputs": [],
   "source": [
    "x_kernel = np.linspace(-4, 4, 1000)\n",
    "h=2\n",
    "kernel_sum = 0\n",
    "for s in np.sort(sample):\n",
    "    kernel_sum += kernel_gaussiano((x_kernel-s)/h)\n",
    "plt.plot(x_kernel, kernel_gaussiano(x_kernel),lw=1,label='K(x)')\n",
    "plt.plot(x_kernel, kernel_sum/(10*h), lw=1, label=r'$\\hat{f}(x)$')\n",
    "plt.scatter(x=x_samples,y=prob_samples,label='Amostras')\n",
    "\n",
    "plt.grid(alpha=0.3)\n",
    "plt.legend()\n",
    "plt.show()"
   ]
  },
  {
   "cell_type": "code",
   "execution_count": null,
   "id": "81c828eb-23a9-4650-920f-13ec46c95697",
   "metadata": {},
   "outputs": [],
   "source": [
    "x_kernel = np.linspace(-4, 4, 1000)\n",
    "plt.plot(x, beta_dist.pdf(x, a, b), color='b', lw=1, alpha=0.3, ls='--',label='População')\n",
    "plt.plot(x_kernel, kernel_gaussiano(x_kernel), color='r', lw=1,label='Kernel')\n",
    "plt.scatter(x=x_samples,y=prob_samples,label='Amostras')\n",
    "plt.grid(alpha=0.3)\n",
    "plt.legend()\n",
    "plt.show()"
   ]
  },
  {
   "cell_type": "markdown",
   "id": "031cdef0-b007-4b3d-9a90-3409ee33e05a",
   "metadata": {},
   "source": [
    "Vamos começar construindo a intuição do que vem a ser $K(\\frac{x-x_i}{h})$"
   ]
  },
  {
   "cell_type": "code",
   "execution_count": null,
   "id": "f6a16ab7-ef5b-49e6-a604-5dce65a388ff",
   "metadata": {},
   "outputs": [],
   "source": [
    "f,ax=plt.subplots(figsize=(15,3))\n",
    "h = 1\n",
    "for i,s in enumerate(np.sort(x_samples)[:5]):\n",
    "    u = (x_kernel-s)/h\n",
    "    ax.plot(x_kernel, kernel_gaussiano(u), color='r', lw=1,label='Kernel')\n",
    "ax.grid(alpha=0.3)\n",
    "plt.show()"
   ]
  },
  {
   "cell_type": "markdown",
   "id": "749c02f4-c09d-4d88-b617-d71dc05a2476",
   "metadata": {},
   "source": [
    "1. **Kernel de Gaussiana**: O kernel é uma função que descreve como cada ponto de dados contribui para a estimativa de densidade. O **kernel Gaussiano** é uma função de forma suave, com pico na origem e caindo rapidamente para zero em torno do centro. Ele é usado para atribuir \"peso\" aos pontos de dados próximos, de modo que os pontos mais distantes tenham um peso menor.\n",
    "\n",
    "   O kernel Gaussiano é dado por:\n",
    "   $$\n",
    "   K(u) = \\frac{1}{\\sqrt{2\\pi}} \\exp\\left(-\\frac{1}{2}u^2\\right)\n",
    "   $$\n",
    "   Onde $u$ é a diferença entre o ponto de dados e o ponto no qual estamos calculando a densidade."
   ]
  },
  {
   "cell_type": "markdown",
   "id": "4d44a99b-f7e7-4453-8488-9a731e3f42ba",
   "metadata": {},
   "source": [
    "Vou gerar 10 pontos de uma distribuição normal"
   ]
  },
  {
   "cell_type": "code",
   "execution_count": null,
   "id": "fc99daf6-e558-4644-95fe-d6ffec680b93",
   "metadata": {},
   "outputs": [],
   "source": [
    "# Definindo o kernel Gaussiano\n",
    "def gaussian_kernel(u):\n",
    "    return (1 / np.sqrt(2 * np.pi)) * np.exp(-0.5 * u ** 2)"
   ]
  },
  {
   "cell_type": "code",
   "execution_count": null,
   "id": "ce4bfe1f-a22c-479b-aed5-cd665d5b1185",
   "metadata": {},
   "outputs": [],
   "source": [
    "# Função para estimar a densidade usando o KDE\n",
    "def kde_estimation(data, x_vals, bandwidth):\n",
    "    n = len(data)  # Número de pontos de dados\n",
    "    density = np.zeros_like(x_vals)  # Vetor para armazenar a densidade estimada\n",
    "    \n",
    "    # Somando os kernels para cada ponto de dados\n",
    "    for x in x_vals:\n",
    "        # Calculando a soma dos kernels\n",
    "        kernels_sum = 0\n",
    "        for xi in data:\n",
    "            kernels_sum += gaussian_kernel((x - xi) / bandwidth)  # Aplicando a largura de banda\n",
    "        density[x_vals == x] = kernels_sum / (n * bandwidth)  # Normalizando pela largura de banda e número de pontos\n",
    "    \n",
    "    return density"
   ]
  },
  {
   "cell_type": "code",
   "execution_count": null,
   "id": "84ce0846-b5b9-421c-b2e9-bc3f826df5ed",
   "metadata": {},
   "outputs": [],
   "source": [
    "# Gerando dados amostrais a partir de uma distribuição normal\n",
    "data = np.random.normal(0, 1, size=1000)\n",
    "\n",
    "# Definindo os pontos em que vamos calcular a densidade\n",
    "x_vals = np.linspace(-5, 5, 1000)\n",
    "\n",
    "# Largura de banda (h)\n",
    "bandwidth = 0.3\n",
    "\n",
    "# Estimando a densidade\n",
    "density = kde_estimation(data, x_vals, bandwidth)\n",
    "\n",
    "# Plotando a estimativa de densidade\n",
    "plt.plot(x_vals, density, label=\"Estimativa de Densidade\")\n",
    "plt.hist(data, bins=30, density=True, alpha=0.5, label=\"Histograma\")\n",
    "plt.legend()\n",
    "plt.title(\"Estimativa de Densidade usando KDE\")\n",
    "plt.show()"
   ]
  },
  {
   "cell_type": "markdown",
   "id": "59603ee7-d165-4516-bf40-40900bc46cca",
   "metadata": {},
   "source": [
    "2. **Soma de Kernels**: Para estimar a densidade em um ponto $x$, o `gaussian_kde` soma os kernels de todos os pontos de dados. Ou seja, ele gera uma curva suavizada que aproxima a verdadeira distribuição de probabilidade subjacente aos dados.\n",
    "\n",
    "   A estimativa da densidade $ \\hat{f}(x) $ em um ponto $x$ é dada por:\n",
    "   $$\n",
    "   \\hat{f}(x) = \\frac{1}{N h} \\sum_{i=1}^{N} K\\left(\\frac{x - x_i}{h}\\right)\n",
    "   $$\n",
    "   Onde:\n",
    "   - $N$ é o número de dados,\n",
    "   - $h$ é o parâmetro de **largura de banda** (bandwidth),\n",
    "   - $x_i$ são os pontos de dados amostrais,\n",
    "   - $K$ é o kernel Gaussiano."
   ]
  },
  {
   "cell_type": "markdown",
   "id": "2517e93b-c173-4bee-86ac-354bb166d866",
   "metadata": {},
   "source": [
    "3. **Largura de Banda ($h$)**: O parâmetro $h$ controla o **tamanho do kernel**. Ele é fundamental para determinar a suavização da estimativa de densidade:\n",
    "   - Se $h$ for muito pequeno, a estimativa será **irregular** (overfitting), com picos e vales pronunciados.\n",
    "   - Se $h$ for muito grande, a estimativa será **excessivamente suave**, perdendo detalhes da distribuição real.\n",
    "   O valor de $h$ pode ser escolhido automaticamente pelo algoritmo ou ajustado manualmente."
   ]
  },
  {
   "cell_type": "markdown",
   "id": "77852efe-79ad-45cc-a448-41ab1ab9c5ba",
   "metadata": {},
   "source": [
    "4. **Propriedade de Suavização**: O `gaussian_kde` tem a capacidade de gerar **curvas suaves** e **contínuas**, mesmo quando os dados são discretos. Ele fornece uma estimativa que não depende de binning (como ocorre em histogramas), o que significa que a densidade é estimada para todos os pontos possíveis dentro do domínio dos dados."
   ]
  },
  {
   "cell_type": "markdown",
   "id": "00d5e9e4-fb7f-4026-9891-a1e09efc0e93",
   "metadata": {},
   "source": [
    "### Passos do `gaussian_kde`:\n",
    "\n",
    "1. **Escolha da largura de banda**: O primeiro passo é definir a largura de banda, que determina o \"tamanho\" do kernel. Uma boa escolha de largura de banda é crucial para obter uma estimativa suave e precisa da densidade.\n",
    "   \n",
    "2. **Construção da estimativa**: A função `gaussian_kde` constrói a função de densidade somando as contribuições de todos os kernels Gaussianos para todos os pontos de dados.\n",
    "\n",
    "3. **Avaliação da densidade**: Depois de ajustado, o `gaussian_kde` pode ser usado para estimar a densidade em qualquer ponto do domínio de interesse."
   ]
  }
 ],
 "metadata": {
  "kernelspec": {
   "display_name": "Python 3 (ipykernel)",
   "language": "python",
   "name": "python3"
  },
  "language_info": {
   "codemirror_mode": {
    "name": "ipython",
    "version": 3
   },
   "file_extension": ".py",
   "mimetype": "text/x-python",
   "name": "python",
   "nbconvert_exporter": "python",
   "pygments_lexer": "ipython3",
   "version": "3.12.4"
  }
 },
 "nbformat": 4,
 "nbformat_minor": 5
}
