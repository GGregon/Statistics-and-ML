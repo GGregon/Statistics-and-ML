{
 "cells": [
  {
   "cell_type": "markdown",
   "id": "2ab7c597-d246-41bb-90c7-0ed337e43284",
   "metadata": {},
   "source": [
    "1. Entendimento do problema\n",
    "2. Importações e configurações do ambiente\n",
    "3. Estatísticas descritivas\n",
    "4. Análise, tratamento e transformação de variáveis\n",
    "5. Modelo linear (baseline) e suas premissas\n",
    "6. Estimando os coeficientes e realizando testes de hipótese\n",
    "7. Acurácia do modelo\n",
    "8. Decidindo variáveis importantes (Variable Selection)\n",
    "9. Intervalos de confiança e de predição\n",
    "10. Revisitando as premissas do modelo\n",
    "11. Problemas potenciais"
   ]
  },
  {
   "cell_type": "markdown",
   "id": "d7751989-3bbb-458d-a4d2-fdb19fdd4141",
   "metadata": {},
   "source": [
    "## 1. Entendimento do problema"
   ]
  },
  {
   "cell_type": "markdown",
   "id": "300190bd-372d-43ed-b35c-f694ef585ec1",
   "metadata": {},
   "source": [
    "O primeiro passo consiste em entender/formatar o problema de modo que modelá-lo através de um modelo linear faça sentido para responder as perguntas. Embora simples, os modelos lineares são muito eficientes e altamente interpretáveis em diversas situações reais. As principais perguntas que podem ser respondidas em problemas como esse são:\n",
    "\n",
    "[formular depois]\n",
    "* Há alguma relação entre as variáveis preditoras $X_1,X_2 \\cdots X_p$ e a resposta $y$?\n",
    "* Quão forte é a relação entre as variáveis preditoras e a resposta?\n",
    "* Qual das variáveis preditoras está relacionada com a resposta?"
   ]
  },
  {
   "cell_type": "markdown",
   "id": "0ca3f08e-569c-4cd7-ac01-24eca187dae8",
   "metadata": {},
   "source": [
    "## 2. Importações e configurações do ambiente"
   ]
  },
  {
   "cell_type": "markdown",
   "id": "48a457ef-8b18-4cb1-a489-48e2a0e3bbde",
   "metadata": {},
   "source": [
    "Nessa seção, vamos importar pacotes, classes e até mesmo bibliotecas inteiras que nos auxiliem na construção do programa"
   ]
  },
  {
   "cell_type": "code",
   "execution_count": null,
   "id": "4b14f6dd-1153-47fa-b37f-05a1c31e5f05",
   "metadata": {},
   "outputs": [],
   "source": [
    "# Estruturação e manipulação dos dados\n",
    "import numpy  as np\n",
    "import pandas as pd\n",
    "\n",
    "# Visualizações\n",
    "import matplotlib.pyplot as plt\n",
    "\n",
    "# Estatística\n",
    "import statsmodels.api as sm\n",
    "\n",
    "# Modelos\n",
    "from sklearn.model_selection import train_test_split"
   ]
  },
  {
   "cell_type": "markdown",
   "id": "7457e099-fbad-4ca0-b426-8ed92573cfed",
   "metadata": {},
   "source": [
    "## 3. Leitura dos dados\n",
    "Carregamos o arquivo com os dados para uma estrutura compatível (*e.g.*, `pd.DataFrame`) onde serão analisados e processados. Também serão exibidas as primeiras observações (linhas) da tabela usando o método `.head()`"
   ]
  },
  {
   "cell_type": "code",
   "execution_count": null,
   "id": "cf26a963-3a34-4118-b92b-8328e3c5fd21",
   "metadata": {},
   "outputs": [],
   "source": [
    "path_arquivo = r'.\\datasets\\Advertising.csv'\n",
    "dados = pd.read_csv(path_arquivo)"
   ]
  },
  {
   "cell_type": "code",
   "execution_count": null,
   "id": "711a60fd-e060-4ff8-b57d-45670fcf3490",
   "metadata": {},
   "outputs": [],
   "source": [
    "# Primeiras observações\n",
    "dados.head()"
   ]
  },
  {
   "cell_type": "code",
   "execution_count": null,
   "id": "b118f037-376a-430c-b660-749a4e8930b3",
   "metadata": {},
   "outputs": [],
   "source": [
    "# Removendo a primeira coluna com os índices desnecessários\n",
    "dados.drop('Unnamed: 0', axis=1, inplace=True)"
   ]
  },
  {
   "cell_type": "markdown",
   "id": "d7cdfb1c-0ca2-436f-b746-6e0ece324273",
   "metadata": {},
   "source": [
    "### Separação em conjunto de treino e teste"
   ]
  },
  {
   "cell_type": "code",
   "execution_count": null,
   "id": "76fed27b-695e-4e50-a6d8-cc13f274eb17",
   "metadata": {},
   "outputs": [],
   "source": [
    "X = dados.iloc[:,:-1]\n",
    "y = dados.iloc[:,-1]"
   ]
  },
  {
   "cell_type": "code",
   "execution_count": null,
   "id": "b7951ae5-c51a-4ca1-9ba1-15d6f27be8bc",
   "metadata": {},
   "outputs": [],
   "source": [
    "X_train, X_test, y_train, y_test = train_test_split(X, y, test_size=0.25, random_state=42)"
   ]
  },
  {
   "cell_type": "markdown",
   "id": "1dfc7506-6729-4f68-8db7-697173db1715",
   "metadata": {},
   "source": [
    "## 4. Distribuição das variáveis quantitativas\n",
    "Serão exploradas algumas estatísticas descritivas das variáveis numéricas; essa etapa nos auxilia a ter uma visão geral da **distribuição** dessas variáveis. Também será analisada a estrutrura geral do conjunto de dados, como quantidade de linhas e colunas e ocorrência de valores duplicados, nulos ou ausentes."
   ]
  },
  {
   "cell_type": "code",
   "execution_count": null,
   "id": "2363c0dc-234f-4d9b-88be-46ff81ba03cd",
   "metadata": {},
   "outputs": [],
   "source": [
    "var_num = dados.select_dtypes(exclude='object').columns"
   ]
  },
  {
   "cell_type": "code",
   "execution_count": null,
   "id": "cbeb815d-e672-49d0-8e25-d03429fa1551",
   "metadata": {},
   "outputs": [],
   "source": [
    "# Estatísticas das variáveis quantitativas\n",
    "X_train.describe().T"
   ]
  },
  {
   "cell_type": "code",
   "execution_count": null,
   "id": "cd3de0b1-c9d4-420a-8a90-3964ec564472",
   "metadata": {},
   "outputs": [],
   "source": [
    "# Distribuições das variáveis numéricas\n",
    "p_num = len(var_num)\n",
    "fig, axes = plt.subplots(2, p_num, figsize=(p_num*5,5), gridspec_kw={'height_ratios':[2,1],'hspace':0.01})\n",
    "for i,var in enumerate(var_num):\n",
    "    axes[0][i].hist(dados.loc[X_train.index][var],histtype='step',density=True)\n",
    "    axes[0][i].set_title(var)\n",
    "    axes[1][i].boxplot(dados.loc[X_train.index][var],widths=[.5],labels=[var],positions=[i],showfliers=False,vert=False)\n",
    "    axes[1][i].scatter(x=dados.loc[X_train.index][var],y=np.zeros_like(dados.loc[X_train.index][var])+np.random.normal(i,0.05,len(dados.loc[X_train.index][var])),alpha=0.3,s=5)\n",
    "    axes[1][i].axis('off')\n",
    "plt.show()"
   ]
  },
  {
   "cell_type": "code",
   "execution_count": null,
   "id": "7a0f1bf2-f090-467c-b130-f55f83e93236",
   "metadata": {},
   "outputs": [],
   "source": [
    "# Estatísticas gerais e estrutura dos dados\n",
    "dados.loc[X_train.index].info()"
   ]
  },
  {
   "cell_type": "code",
   "execution_count": null,
   "id": "46a94278-166d-4cd2-a038-d7275941ef1b",
   "metadata": {},
   "outputs": [],
   "source": [
    "# Valores duplicados\n",
    "print(f'Observações duplicadas: {dados.loc[X_train.index].duplicated().sum()}')"
   ]
  },
  {
   "cell_type": "code",
   "execution_count": null,
   "id": "52c144e0-75a6-4680-9ced-8369c52d90ec",
   "metadata": {},
   "outputs": [],
   "source": [
    "print(f'Observações ausentes: \\n{dados.loc[X_train.index].isnull().sum()}')"
   ]
  },
  {
   "cell_type": "markdown",
   "id": "00e44809-fe37-434b-aacb-323eda5ad000",
   "metadata": {},
   "source": [
    "## 5. Análise, tratamento e transformação de variáveis\n",
    "Esta seção é dedicada ao tratamento e transformação dos dados, buscando trazer integridade e qualidade para as análises posteriores. Destaco as mais comuns como sendo:\n",
    "\n",
    "* Preenchimento de valores ausentes;\n",
    "* Remoção de valores duplicados;\n",
    "* Exclusão de variáveis com poucas observações;\n",
    "* Ajuste de escalas;\n",
    "* Criação de variáveis auxiliares;\n",
    "* Correção de erros de preenchimento em geral;"
   ]
  },
  {
   "cell_type": "markdown",
   "id": "38def604-3fb0-47fb-b726-1aed57585c47",
   "metadata": {},
   "source": [
    "Começaremos analisando a correlação entre as variáveis"
   ]
  },
  {
   "cell_type": "code",
   "execution_count": null,
   "id": "b659737d-0151-4c03-b26e-8a04ed43161a",
   "metadata": {},
   "outputs": [],
   "source": [
    "dados.loc[X_train.index].corr()"
   ]
  },
  {
   "cell_type": "markdown",
   "id": "ff1be240-5b0d-49e0-b07b-1518b4efa442",
   "metadata": {},
   "source": [
    "Em seguida, vamos visualizar um gráfico de dispersão entre elas"
   ]
  },
  {
   "cell_type": "code",
   "execution_count": null,
   "id": "5ce5da61-0a6a-4fc2-bd77-f1a9e817dc0e",
   "metadata": {},
   "outputs": [],
   "source": [
    "# Dispersão contra variável alvo\n",
    "p_num = len(var_num)\n",
    "fig, axes = plt.subplots(1, p_num-1, figsize=(p_num*5,5),sharey=True)\n",
    "for i,var in enumerate(var_num):\n",
    "    if var != 'sales':\n",
    "        axes[i].scatter(dados.loc[X_train.index][var],dados.loc[X_train.index]['sales'],alpha=0.5)\n",
    "        axes[i].set_xlabel(var,fontsize=14,loc='right')\n",
    "        axes[i].set_title('Sales',loc='left',fontsize=14)\n",
    "        axes[i].grid(alpha=0.5)\n",
    "plt.show()"
   ]
  },
  {
   "cell_type": "markdown",
   "id": "70ccbbb5-ca7d-46ea-a1b0-6498ed89d445",
   "metadata": {},
   "source": [
    "> Dos gráficos acima, de fato verificamos que é possível aproximar a relação entre as variáveis **TV** e **radio** com **sales** por meio de uma função linear. O mesmo já não pode ser dito quanto a variável **newspaper**"
   ]
  },
  {
   "cell_type": "markdown",
   "id": "f9b6e804-44f2-4d09-99ba-6307c13a56f1",
   "metadata": {},
   "source": [
    "## 6. Modelo linear (*baseline*) e suas premissas"
   ]
  },
  {
   "attachments": {},
   "cell_type": "markdown",
   "id": "81d48b52-864b-46bb-845b-8107728bd751",
   "metadata": {},
   "source": [
    "O modelo linear multivariado consiste em ajustar o conjunto de dados de treino a uma função que toma a seguinte forma:\n",
    "\n",
    "$$\n",
    "y = \\hat\\beta_0 + \\hat\\beta_1 X_1 + \\cdots + \\hat\\beta_p X_p \\qquad \\therefore \\qquad \\mathbf{\\hat y} = \\mathbf{X \\hat\\beta}\n",
    "$$\n",
    "\n",
    "Onde:\n",
    "* $\\hat\\beta_j$ é o valor estimado para o coeficiente $\\beta_j$, obtido usando método dos mínimos quadrados"
   ]
  },
  {
   "cell_type": "markdown",
   "id": "c55ad17d-eaf1-4223-8948-8e4acd726e98",
   "metadata": {},
   "source": [
    "Matricialmente, a solução de mínimos quadrados acima consiste em:"
   ]
  },
  {
   "cell_type": "markdown",
   "id": "6fe98a03-13b0-420f-b19a-e1557d479ebe",
   "metadata": {},
   "source": [
    "$$\n",
    "\\mathbf{\\hat\\beta} = \\mathbf{(XX^{\\top})^{-1}X^{\\top}y}\n",
    "$$"
   ]
  },
  {
   "cell_type": "markdown",
   "id": "7c7b0742-ca87-408b-bf46-383d067e978a",
   "metadata": {},
   "source": [
    "### Treinando o modelo"
   ]
  },
  {
   "cell_type": "markdown",
   "id": "b7716215-26ca-4aec-990c-5f53fb840ca4",
   "metadata": {},
   "source": [
    "Vamos definir a matriz $\\mathbf{X}$ como sendo o subconjunto dos dados contendo somente as variáveis numéricas e $y$ como sendo o vetor coluna com a resposta"
   ]
  },
  {
   "cell_type": "code",
   "execution_count": null,
   "id": "42e41907-7398-4031-b13c-7ad0bfc0ef74",
   "metadata": {},
   "outputs": [],
   "source": [
    "# Ajustando os dados de treino ao modelo linear\n",
    "X_train = sm.add_constant(X_train)    # Adicionamos o intercepto\n",
    "modelo = sm.OLS(y_train, X_train).fit()"
   ]
  },
  {
   "cell_type": "markdown",
   "id": "c6a3cd67-613f-4c95-8790-b44c101f79a3",
   "metadata": {},
   "source": [
    "## 7. Estimando os coeficientes e realizando testes de hipótese"
   ]
  },
  {
   "cell_type": "code",
   "execution_count": null,
   "id": "3219ac4d-9293-4ed9-b868-0ec293f83ca0",
   "metadata": {},
   "outputs": [],
   "source": [
    "round(estatisticas_parametros(modelo),4)"
   ]
  },
  {
   "cell_type": "markdown",
   "id": "7b711985-0a31-4c5f-8518-b27cb7618a29",
   "metadata": {},
   "source": [
    "Os valores estimados para os coeficientes se encontram na tabela acima. Junto a eles, também temos acesso ao desvio padrão desses estimadores e seus correspondentes *p-values*. De posse desses resultados, podemos concluir que:"
   ]
  },
  {
   "attachments": {},
   "cell_type": "markdown",
   "id": "fe72fd68-c85a-4d46-bd7e-637fb9e0c3ff",
   "metadata": {},
   "source": [
    "* **Intercepto**<br>\n",
    "Na ausência de qualquer investimento em mídias na TV, Rádio ou Jornal, espera-se que a as vendas estejam no intervalo de confiança abaixo\n",
    "\n",
    "    $\\hat\\beta_0 = 2.94 \\pm 0.31$\n",
    "\n",
    "* **TV**<br>\n",
    "Fixado os investimentos em Rádio e Jornal, espera-se que um incremento de 1,000 dolares em propaganda na TV esteja associado a um aumento nas vendas de\n",
    "\n",
    "    $\\hat\\beta_1 = 45.8 \\pm 1.4$\n",
    "\n",
    "* **Rádio**<br>\n",
    "Fixado os investimentos em TV e Jornal, espera-se que um incremento de 1,000 dolares em propaganda na Rádio esteja associado a um aumento nas vendas de\n",
    "\n",
    "    $\\hat\\beta_2 = 188.5 \\pm 8.6$\n",
    "\n",
    "* **Jornal**<br>\n",
    "Fixado os investimentos em TV e Rádio, espera-se que um incremento de 1,000 dolares em propaganda em Jornal esteja associado a um aumento nas vendas de\n",
    "\n",
    "    $\\hat\\beta_3 = -1 \\pm 5.9$\n",
    "\n",
    "> Esse intervalo seguramente cobre o zero em 95% das vezes. Sendo assim, estamos decididos que não há significância estatística"
   ]
  },
  {
   "cell_type": "markdown",
   "id": "93f2614c-54a8-42d2-ad9c-b98809035519",
   "metadata": {},
   "source": [
    "Das conclusões acima, irei responder algumas perguntas:"
   ]
  },
  {
   "cell_type": "markdown",
   "id": "618dc4d8-539f-4e29-9694-8c9411d959c4",
   "metadata": {},
   "source": [
    "### Há alguma relação entre a variável alvo $y$ e os preditores $X$?"
   ]
  },
  {
   "cell_type": "markdown",
   "id": "8f8e4f8b-681a-4f75-895f-a9db9652059d",
   "metadata": {},
   "source": [
    "Para averiguar se os coeficientes estimados são estatisticamente significantes (i.e., existe relação entre $X$ e $y$), precisamos calcular a *F-Statistic* do modelo\n",
    "\n",
    "$$\n",
    "\\text{F} = \\frac{(\\text{TSS-RSS})/p}{\\text{RSS}/(n-p-1)}\n",
    "$$"
   ]
  },
  {
   "cell_type": "markdown",
   "id": "0af8d1a9-14c6-44e7-86ee-2fdd1e044d1f",
   "metadata": {},
   "source": [
    "Caso as premissas do modelo linear estiverem corretas, esperamos que:\n",
    "* $\\mathbb{E}[\\text{RSS}/(n-p-1)] = \\sigma^2$\n",
    "Dai, assumindo que a hipótese nule $H_0$ esteja correta:\n",
    "* $\\mathbb{E}[(\\text{TSS-RSS})/p] = \\sigma^2$\n",
    "\n",
    "Portanto, se **não houver** nenhuma relação entre $X$ e $y$, esperamos que $\\text{F} \\approx 1$. Se houver alguma relação, esperamos que $\\text{F} \\gg 1$"
   ]
  },
  {
   "cell_type": "code",
   "execution_count": null,
   "id": "3a1fd0ab-90fb-4a60-846c-a99359c80ccc",
   "metadata": {},
   "outputs": [],
   "source": [
    "print(f'F-statistic: {round(modelo.fvalue,2)}')\n",
    "print(f'F p-value  : {modelo.f_pvalue:.3f}')"
   ]
  },
  {
   "cell_type": "markdown",
   "id": "eb589f54-a693-400d-8fa0-d1e368315fc4",
   "metadata": {},
   "source": [
    "No modelo considerado, obtivemos $\\text{F} = 422.2 \\gg 1$, e sua probabilidade associada muito menor que 5%, indicando forte relação entre a resposta e alguma variável preditora."
   ]
  },
  {
   "cell_type": "markdown",
   "id": "2529368f-8f33-4ed2-9bec-583d0acc9748",
   "metadata": {},
   "source": [
    "## 8. Desempenho do modelo"
   ]
  },
  {
   "cell_type": "markdown",
   "id": "e0808f11-e801-4f05-89d2-977854ac4e1a",
   "metadata": {},
   "source": [
    "O modelo fora treinado com um conjunto de dados. Sua acurácia será determinada quando, a partir do modelo ajustado, compararmos as respostas preditas com um novo conjunto de dados (teste) ainda desconhecido pelo modelo. As principais métricas de avaliação de modelo são o RSE e R<sup>2</sup>"
   ]
  },
  {
   "cell_type": "code",
   "execution_count": null,
   "id": "e3f57909-b935-4d33-b151-a8a43275072d",
   "metadata": {},
   "outputs": [],
   "source": [
    "from sklearn.metrics import r2_score, mean_squared_error"
   ]
  },
  {
   "cell_type": "code",
   "execution_count": null,
   "id": "7908ca31-39fb-4e30-9e75-5385ef147c31",
   "metadata": {},
   "outputs": [],
   "source": [
    "# Adicionamos a coluna com 1's com o intercepto\n",
    "X_test = sm.add_constant(X_test)\n",
    "y_pred = modelo.predict(X_test)"
   ]
  },
  {
   "cell_type": "code",
   "execution_count": null,
   "id": "522ba0be-8eac-407f-835d-b9a11efcba56",
   "metadata": {},
   "outputs": [],
   "source": [
    "print(f'R2: {round(r2_score(y_test,y_pred),3)}')\n",
    "print(f'RSE: {round(mean_squared_error(y_test,y_pred),3)}')"
   ]
  },
  {
   "cell_type": "markdown",
   "id": "f163552d-27b3-46a6-a514-1d7d7abd2f32",
   "metadata": {},
   "source": [
    "Dos resultados acima, concluimos que:\n",
    "\n",
    "* ~90% da variabilidade da resposta $y$ é explicada pelo modelo linear (*i.e*, pelas variáveis preditoras)\n",
    "* Na média, as predições variam cerca de 2.880 unidades em relação ao valor real"
   ]
  },
  {
   "cell_type": "markdown",
   "id": "bb8223d5-7a66-4e58-88ef-4736029a3152",
   "metadata": {},
   "source": [
    "### Visualizando as predições"
   ]
  },
  {
   "cell_type": "code",
   "execution_count": null,
   "id": "af40970f-8559-4f36-a43b-2eacda11b400",
   "metadata": {},
   "outputs": [],
   "source": [
    "visualizar_predicoes(X_test, y_test, modelo)"
   ]
  },
  {
   "cell_type": "markdown",
   "id": "12942a16-d929-441f-b0be-d0c0f3ef4f81",
   "metadata": {},
   "source": [
    "### Funções auxiliares"
   ]
  },
  {
   "cell_type": "code",
   "execution_count": null,
   "id": "59e66d55-c1e7-4ac7-8604-4998c0bbca65",
   "metadata": {},
   "outputs": [],
   "source": [
    "def estatisticas_parametros(model):\n",
    "    summary = {\n",
    "        'Coefficient': model.params,\n",
    "        'Std. error': model.bse,\n",
    "        't-statistic': model.tvalues,\n",
    "        'p-value': model.pvalues\n",
    "    }\n",
    "    \n",
    "    # Criando a tabela em DataFrame\n",
    "    results_table = pd.DataFrame(summary)\n",
    "    results_table.index.name = 'Variable'\n",
    "    \n",
    "    # Exibindo a tabela\n",
    "    return results_table"
   ]
  },
  {
   "cell_type": "code",
   "execution_count": null,
   "id": "f0a4d8f4-707e-430a-ac58-fc252b7dab1e",
   "metadata": {},
   "outputs": [],
   "source": [
    "def visualizar_predicoes(X_test, y_test, modelo):\n",
    "\n",
    "    # Realiza as predições\n",
    "    y_pred = modelo.predict(X_test)\n",
    "    \n",
    "    # Armazena os coeficientes/parametros do modelo\n",
    "    beta_0 = modelo.params['const']\n",
    "    betas  = modelo.params.iloc[1:].values\n",
    "\n",
    "    # Criar gráficos de dispersão para cada preditor\n",
    "    fig, axes = plt.subplots(1, X_test.shape[1]-1, figsize=(15, 5),sharey=True)\n",
    "    \n",
    "    for i, ax in enumerate(axes):\n",
    "        \n",
    "        # Pontos de teste e predições\n",
    "        X = X_test.iloc[:,i+1]             # Desprezamos a coluna com intercepto\n",
    "        ax.scatter(X, y_test, label=\"Teste\", alpha=0.7, color='None', edgecolor='tab:green')\n",
    "        ax.scatter(X, y_pred, label=\"Preditos\", alpha=0.7,marker='x',color='tab:red')\n",
    "        \n",
    "        # Reta da regressão específica para o preditor\n",
    "        x_range = np.linspace(X.min(), X.max(), 100)\n",
    "        y_range = beta_0 + betas[i] * x_range\n",
    "        ax.plot(x_range, y_range, color=\"k\")\n",
    "        ax.set_xlim(0,)\n",
    "        ax.set_xlabel(X.name)\n",
    "        ax.grid(alpha=0.5)\n",
    "        \n",
    "    plt.legend()\n",
    "    plt.show()"
   ]
  }
 ],
 "metadata": {
  "kernelspec": {
   "display_name": "Python 3 (ipykernel)",
   "language": "python",
   "name": "python3"
  },
  "language_info": {
   "codemirror_mode": {
    "name": "ipython",
    "version": 3
   },
   "file_extension": ".py",
   "mimetype": "text/x-python",
   "name": "python",
   "nbconvert_exporter": "python",
   "pygments_lexer": "ipython3",
   "version": "3.12.4"
  }
 },
 "nbformat": 4,
 "nbformat_minor": 5
}
