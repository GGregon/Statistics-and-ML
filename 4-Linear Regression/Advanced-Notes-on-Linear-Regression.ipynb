{
 "cells": [
  {
   "cell_type": "markdown",
   "id": "0bc3ce91-2f31-45ad-adfd-efbf049c13e2",
   "metadata": {},
   "source": [
    "# Regressão Linear"
   ]
  },
  {
   "cell_type": "markdown",
   "id": "2d122589-a41e-4907-ab6c-fd243b0770e5",
   "metadata": {},
   "source": [
    "Ilustrando diferenças conceituais entre reta de regressão, erro, resíduo e função que modela a *verdadeira* relação entre $X$ e $y$"
   ]
  },
  {
   "cell_type": "markdown",
   "id": "1a92f867-5dbe-44e8-8472-74bb24da558a",
   "metadata": {},
   "source": [
    "A **verdadeira** relação entre a variável preditora $X$ e a resposta $y$ é expressa por:\n",
    "$$\n",
    "y = f(X) + \\varepsilon\n",
    "$$"
   ]
  },
  {
   "cell_type": "markdown",
   "id": "43d2fdb4-7587-4071-a365-f9000858cfad",
   "metadata": {},
   "source": [
    "Ao assumirmos um modelo linear, isto é, considerar que $f$ toma a forma $f(X) = \\beta_0 + \\beta_1 X$, a equação acima fica:\n",
    "\n",
    "$$\n",
    "y=\\beta_0+\\beta_1 X + \\varepsilon \\qquad \\Longrightarrow \\qquad \\text{População}\n",
    "$$"
   ]
  },
  {
   "cell_type": "markdown",
   "id": "62bc54ad-3b57-4129-b037-3f0230d52a35",
   "metadata": {},
   "source": [
    "Quando usamos uma amostra (conjunto de observações oriunda da população) para *estimar* $f$, obtemos a reta da regressão $\\hat{f}$ que é expressa por:\n",
    "\n",
    "$$\n",
    "\\hat f(x_i) = \\hat \\beta_0 + \\hat \\beta_1 x_i \\qquad \\Longrightarrow \\qquad \\text{Amostra}\n",
    "$$"
   ]
  },
  {
   "cell_type": "markdown",
   "id": "ecc30d84-3006-4eff-ba10-ef239064d2e7",
   "metadata": {},
   "source": [
    "## Resíduo e Erro\n",
    "A diferença entre o resíduo ($e$) e o erro ($\\varepsilon$) é sútil, mas fundamental para o entendimento de modelos estatísticos como um todo."
   ]
  },
  {
   "cell_type": "markdown",
   "id": "bf8698b0-ef17-4ebf-a067-f7234dadfa92",
   "metadata": {},
   "source": [
    "* Erro ($\\varepsilon$)\n",
    "    $$\\varepsilon_i = y_i - f(x_i)$$\n",
    "\n",
    "* Resíduo ($e$)\n",
    "    $$e_i = y_i - \\hat f(x_i)$$"
   ]
  },
  {
   "cell_type": "markdown",
   "id": "693fc168-345c-44a8-9d83-06ab04c96098",
   "metadata": {},
   "source": [
    "<center>\n",
    "<img src='../1-images/Residuals_vs_Errors.png', width=600>\n",
    "</center>"
   ]
  },
  {
   "cell_type": "markdown",
   "id": "14d4a5d0-ac5f-4da2-8eba-8c91d31755e8",
   "metadata": {},
   "source": [
    "Erros são quantidades relacionadas a **população**, sendo quantificadas como sendo a diferença entre o valor observado $y_i$ e o valor da função $f(x_i)$ para uma determinada observação $x_i$. Já o resíduo é a diferença entre o valor observado e o valor da função **estimada** $\\hat f(x_i)$ a partir da amostra para uma determinada observação."
   ]
  },
  {
   "cell_type": "markdown",
   "id": "fcaab836-5473-41e9-a8d1-caf2f0aa0681",
   "metadata": {},
   "source": [
    "> Exemplo: Considere a *Lei de Hooke*, cujo modelo físico é expresso como sendo $F=kx$. A **verdadeira** relação, isto é, aquela modelada considerando milhares e milhares de observações de deformações em molas em regime de elasticidade é $F(x) = kx$. Agora suponha que um experimento fora realizado para uma mola específica e 10 observações foram coleatadas a fim de se traçar a reta que melhor se ajustasse a elas. <br><br>\n",
    "A reta obtida *não* será exatamente igual a $F(x)$! Além disso, ainda que fosse, erros de medida acontecem (dentre outros fatores externos que não foram capturados pelo modelo real). Sendo assim, **ainda que de posse da verdadeira relação**, o erro sempre estará presente. Já o resíduo é a diferença entre a medição e o valor predito pela função estimada a partir dos pontos observados."
   ]
  },
  {
   "cell_type": "markdown",
   "id": "0b2bf13d-8042-445f-a62e-9a7a48a02310",
   "metadata": {},
   "source": [
    "## Estimando coeficientes da regressão"
   ]
  },
  {
   "cell_type": "code",
   "execution_count": null,
   "id": "d09fc355-129d-4e14-90bd-3706204c8d3d",
   "metadata": {},
   "outputs": [],
   "source": []
  }
 ],
 "metadata": {
  "kernelspec": {
   "display_name": "Python 3 (ipykernel)",
   "language": "python",
   "name": "python3"
  },
  "language_info": {
   "codemirror_mode": {
    "name": "ipython",
    "version": 3
   },
   "file_extension": ".py",
   "mimetype": "text/x-python",
   "name": "python",
   "nbconvert_exporter": "python",
   "pygments_lexer": "ipython3",
   "version": "3.12.4"
  }
 },
 "nbformat": 4,
 "nbformat_minor": 5
}
