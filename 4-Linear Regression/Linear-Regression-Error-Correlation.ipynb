{
 "cells": [
  {
   "cell_type": "markdown",
   "id": "602b5421-34f2-45d2-a7c1-092f8133c63f",
   "metadata": {},
   "source": [
    "# Correlação dos termos de erro\n"
   ]
  },
  {
   "cell_type": "markdown",
   "id": "2493a526-f521-4037-9880-06c23400a644",
   "metadata": {},
   "source": [
    "Neste notebook irei ilustrar, a partir de um dataset de dados de consumo de usuários, o impacto de registros duplicados na determinação dos coeficientes da regressão"
   ]
  },
  {
   "cell_type": "markdown",
   "id": "21541ebc-26af-4cb8-bfe4-2220a969c55f",
   "metadata": {},
   "source": [
    "## 1. Configurações do ambiente e importações"
   ]
  },
  {
   "cell_type": "code",
   "execution_count": 2,
   "id": "858e41d8-29f7-4bdf-8007-e99dfab1861c",
   "metadata": {},
   "outputs": [],
   "source": [
    "import numpy as np\n",
    "import matplotlib.pyplot as plt\n",
    "import pandas as pd\n",
    "from scipy.stats import norm\n",
    "import statsmodels.api as sm"
   ]
  },
  {
   "cell_type": "code",
   "execution_count": 3,
   "id": "7af295b3-5ff6-4c6d-ba23-446b94c478d4",
   "metadata": {},
   "outputs": [],
   "source": [
    "%config InlineBackend.figure_format = 'retina'"
   ]
  },
  {
   "cell_type": "code",
   "execution_count": 7,
   "id": "eeefada9-deea-49bd-a742-d9880b38874e",
   "metadata": {},
   "outputs": [],
   "source": [
    "# Configurações gerais\n",
    "np.random.seed(42)\n",
    "n = 100           # Número de usuários originais\n",
    "beta_age = 0.3    # Coeficiente para idade\n",
    "beta_hours = 0.7  # Coeficiente para horas jogadas\n",
    "intercept = 2.0   # Intercepto\n",
    "sigma = 1.5       # Desvio padrão dos erros\n",
    "\n",
    "# Gerar variáveis independentes\n",
    "ages = np.random.randint(18, 50, n)  # Idades dos usuários\n",
    "hours_played = np.random.uniform(1, 10, n)  # Horas jogadas semanalmente\n",
    "\n",
    "# Gerar a variável dependente (satisfação do jogo)\n",
    "errors = np.random.normal(0, sigma, n)\n",
    "satisfaction = intercept + beta_age * ages + beta_hours * hours_played + errors\n",
    "\n",
    "# Criar o DataFrame original\n",
    "data_original = pd.DataFrame({\n",
    "    \"Age\": ages,\n",
    "    \"HoursPlayed\": hours_played,\n",
    "    \"Satisfaction\": satisfaction\n",
    "})"
   ]
  },
  {
   "cell_type": "code",
   "execution_count": 11,
   "id": "216a6c08-dfa8-4288-8d12-a50b85a62fcd",
   "metadata": {},
   "outputs": [],
   "source": [
    "# Duplicar os dados (50% duplicado)\n",
    "data_duplicated = pd.concat([data_original, data_original.sample(frac=1, random_state=42)], ignore_index=True)"
   ]
  },
  {
   "cell_type": "code",
   "execution_count": 12,
   "id": "926d4cd1-2a14-45cd-9fbf-d29cc350a39a",
   "metadata": {},
   "outputs": [],
   "source": [
    "# Ajustar os modelos nos dois casos\n",
    "X_original = sm.add_constant(data_original[[\"Age\", \"HoursPlayed\"]])\n",
    "model_original = sm.OLS(data_original[\"Satisfaction\"], X_original).fit()\n",
    "\n",
    "X_duplicated = sm.add_constant(data_duplicated[[\"Age\", \"HoursPlayed\"]])\n",
    "model_duplicated = sm.OLS(data_duplicated[\"Satisfaction\"], X_duplicated).fit()"
   ]
  },
  {
   "cell_type": "code",
   "execution_count": 21,
   "id": "769c239f-876f-4048-8dde-f74d3e5163b0",
   "metadata": {},
   "outputs": [],
   "source": [
    "# Exibir os resultados dos coeficientes e intervalos de confiança\n",
    "results = pd.DataFrame({\n",
    "    \"SE Original\": model_original.bse,\n",
    "    \"SE Duplicado\": model_duplicated.bse,\n",
    "    \"t-Statistic Original\": model_original.tvalues,\n",
    "    \"t-Statistic Duplicado\": model_duplicated.tvalues,\n",
    "    \"IC Inferior Original\": model_original.conf_int()[0],\n",
    "    \"IC Inferior Duplicado\": model_duplicated.conf_int()[0],\n",
    "    \"IC Superior Original\": model_original.conf_int()[1],\n",
    "    \"IC Superior Duplicado\": model_duplicated.conf_int()[1],\n",
    "    \"p-Value Original\": model_original.pvalues,\n",
    "    \"p-Value Duplicado\": model_duplicated.pvalues\n",
    "})"
   ]
  },
  {
   "cell_type": "code",
   "execution_count": 23,
   "id": "85d26409-a80c-4b5f-a353-70b0f4d6ff9d",
   "metadata": {},
   "outputs": [
    {
     "data": {
      "text/html": [
       "<div>\n",
       "<style scoped>\n",
       "    .dataframe tbody tr th:only-of-type {\n",
       "        vertical-align: middle;\n",
       "    }\n",
       "\n",
       "    .dataframe tbody tr th {\n",
       "        vertical-align: top;\n",
       "    }\n",
       "\n",
       "    .dataframe thead th {\n",
       "        text-align: right;\n",
       "    }\n",
       "</style>\n",
       "<table border=\"1\" class=\"dataframe\">\n",
       "  <thead>\n",
       "    <tr style=\"text-align: right;\">\n",
       "      <th></th>\n",
       "      <th>SE Original</th>\n",
       "      <th>SE Duplicado</th>\n",
       "      <th>t-Statistic Original</th>\n",
       "      <th>t-Statistic Duplicado</th>\n",
       "      <th>IC Inferior Original</th>\n",
       "      <th>IC Inferior Duplicado</th>\n",
       "      <th>IC Superior Original</th>\n",
       "      <th>IC Superior Duplicado</th>\n",
       "      <th>p-Value Original</th>\n",
       "      <th>p-Value Duplicado</th>\n",
       "    </tr>\n",
       "  </thead>\n",
       "  <tbody>\n",
       "    <tr>\n",
       "      <th>const</th>\n",
       "      <td>0.650189</td>\n",
       "      <td>0.456239</td>\n",
       "      <td>4.753886</td>\n",
       "      <td>6.774792</td>\n",
       "      <td>1.800479</td>\n",
       "      <td>2.191185</td>\n",
       "      <td>4.381370</td>\n",
       "      <td>3.990664</td>\n",
       "      <td>6.928863e-06</td>\n",
       "      <td>1.405262e-10</td>\n",
       "    </tr>\n",
       "    <tr>\n",
       "      <th>Age</th>\n",
       "      <td>0.015938</td>\n",
       "      <td>0.011184</td>\n",
       "      <td>17.465121</td>\n",
       "      <td>24.889653</td>\n",
       "      <td>0.246724</td>\n",
       "      <td>0.256301</td>\n",
       "      <td>0.309988</td>\n",
       "      <td>0.300411</td>\n",
       "      <td>1.042026e-31</td>\n",
       "      <td>9.793366e-63</td>\n",
       "    </tr>\n",
       "    <tr>\n",
       "      <th>HoursPlayed</th>\n",
       "      <td>0.054939</td>\n",
       "      <td>0.038551</td>\n",
       "      <td>12.151799</td>\n",
       "      <td>17.317604</td>\n",
       "      <td>0.558570</td>\n",
       "      <td>0.591583</td>\n",
       "      <td>0.776648</td>\n",
       "      <td>0.743634</td>\n",
       "      <td>3.363840e-21</td>\n",
       "      <td>1.926893e-41</td>\n",
       "    </tr>\n",
       "  </tbody>\n",
       "</table>\n",
       "</div>"
      ],
      "text/plain": [
       "             SE Original  SE Duplicado  t-Statistic Original  \\\n",
       "const           0.650189      0.456239              4.753886   \n",
       "Age             0.015938      0.011184             17.465121   \n",
       "HoursPlayed     0.054939      0.038551             12.151799   \n",
       "\n",
       "             t-Statistic Duplicado  IC Inferior Original  \\\n",
       "const                     6.774792              1.800479   \n",
       "Age                      24.889653              0.246724   \n",
       "HoursPlayed              17.317604              0.558570   \n",
       "\n",
       "             IC Inferior Duplicado  IC Superior Original  \\\n",
       "const                     2.191185              4.381370   \n",
       "Age                       0.256301              0.309988   \n",
       "HoursPlayed               0.591583              0.776648   \n",
       "\n",
       "             IC Superior Duplicado  p-Value Original  p-Value Duplicado  \n",
       "const                     3.990664      6.928863e-06       1.405262e-10  \n",
       "Age                       0.300411      1.042026e-31       9.793366e-63  \n",
       "HoursPlayed               0.743634      3.363840e-21       1.926893e-41  "
      ]
     },
     "execution_count": 23,
     "metadata": {},
     "output_type": "execute_result"
    }
   ],
   "source": [
    "results"
   ]
  }
 ],
 "metadata": {
  "kernelspec": {
   "display_name": "Python 3 (ipykernel)",
   "language": "python",
   "name": "python3"
  },
  "language_info": {
   "codemirror_mode": {
    "name": "ipython",
    "version": 3
   },
   "file_extension": ".py",
   "mimetype": "text/x-python",
   "name": "python",
   "nbconvert_exporter": "python",
   "pygments_lexer": "ipython3",
   "version": "3.12.4"
  }
 },
 "nbformat": 4,
 "nbformat_minor": 5
}
